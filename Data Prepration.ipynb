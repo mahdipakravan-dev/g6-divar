{
 "cells": [
  {
   "cell_type": "markdown",
   "id": "901aa87e",
   "metadata": {},
   "source": [
    "Data Prepration"
   ]
  },
  {
   "cell_type": "code",
   "execution_count": 1,
   "id": "eeada05f",
   "metadata": {},
   "outputs": [
    {
     "name": "stderr",
     "output_type": "stream",
     "text": [
      "D:\\AppData\\ipykernel_36024\\1500952972.py:3: DtypeWarning: Columns (11,27,29,53) have mixed types. Specify dtype option on import or set low_memory=False.\n",
      "  df_divar = pd.read_csv('Divar.csv')\n"
     ]
    }
   ],
   "source": [
    "import pandas as pd\n",
    "import category_encoders as ce\n",
    "df_divar = pd.read_csv('Divar.csv')\n",
    "df_divar = df_divar[sorted(df_divar.columns)]\n",
    "pd.set_option('display.max_rows', None)  # نمایش تمامی سطرها\n",
    "pd.set_option('display.max_columns', None)  # نمایش تمامی ستون‌ها\n",
    "pd.set_option('display.expand_frame_repr', False)  # جلوگیری از خلاصه شدن\n",
    "pd.set_option('max_colwidth', None)"
   ]
  },
  {
   "cell_type": "markdown",
   "id": "620fd57b",
   "metadata": {},
   "source": [
    "<p dir=rtl style=\" text-align: center; font-style:b\">\n",
    "<font face=\"vazir\" size=5>\n",
    "حذف ستون location_radius از دیتا فریم\n",
    "\n"
   ]
  },
  {
   "cell_type": "code",
   "execution_count": 2,
   "id": "e3b25810",
   "metadata": {},
   "outputs": [
    {
     "name": "stdout",
     "output_type": "stream",
     "text": [
      "<class 'pandas.core.frame.DataFrame'>\n",
      "RangeIndex: 1000000 entries, 0 to 999999\n",
      "Data columns (total 60 columns):\n",
      " #   Column                      Non-Null Count    Dtype  \n",
      "---  ------                      --------------    -----  \n",
      " 0   Unnamed: 0                  1000000 non-null  int64  \n",
      " 1   building_direction          323923 non-null   object \n",
      " 2   building_size               980394 non-null   float64\n",
      " 3   cat2_slug                   1000000 non-null  object \n",
      " 4   cat3_slug                   999999 non-null   object \n",
      " 5   city_slug                   999998 non-null   object \n",
      " 6   construction_year           815828 non-null   object \n",
      " 7   cost_per_extra_person       10241 non-null    float64\n",
      " 8   created_at_month            1000000 non-null  object \n",
      " 9   credit_mode                 352994 non-null   object \n",
      " 10  credit_value                352095 non-null   float64\n",
      " 11  deed_type                   253458 non-null   object \n",
      " 12  description                 1000000 non-null  object \n",
      " 13  extra_person_capacity       24009 non-null    object \n",
      " 14  floor                       541748 non-null   object \n",
      " 15  floor_material              405984 non-null   object \n",
      " 16  has_balcony                 506411 non-null   object \n",
      " 17  has_barbecue                31198 non-null    object \n",
      " 18  has_business_deed           34679 non-null    object \n",
      " 19  has_cooling_system          350619 non-null   object \n",
      " 20  has_electricity             33445 non-null    object \n",
      " 21  has_elevator                541749 non-null   object \n",
      " 22  has_gas                     33430 non-null    object \n",
      " 23  has_heating_system          368969 non-null   object \n",
      " 24  has_jacuzzi                 28728 non-null    object \n",
      " 25  has_parking                 728156 non-null   object \n",
      " 26  has_pool                    29390 non-null    object \n",
      " 27  has_restroom                406913 non-null   object \n",
      " 28  has_sauna                   28479 non-null    object \n",
      " 29  has_security_guard          31312 non-null    object \n",
      " 30  has_warehouse               728155 non-null   object \n",
      " 31  has_warm_water_provider     379500 non-null   object \n",
      " 32  has_water                   33444 non-null    object \n",
      " 33  is_rebuilt                  529470 non-null   object \n",
      " 34  land_size                   186396 non-null   float64\n",
      " 35  location_latitude           655608 non-null   float64\n",
      " 36  location_longitude          655608 non-null   float64\n",
      " 37  neighborhood_slug           437139 non-null   object \n",
      " 38  price_mode                  573606 non-null   object \n",
      " 39  price_value                 568346 non-null   float64\n",
      " 40  property_type               27057 non-null    object \n",
      " 41  regular_person_capacity     29870 non-null    float64\n",
      " 42  rent_credit_transform       352985 non-null   object \n",
      " 43  rent_mode                   352994 non-null   object \n",
      " 44  rent_price_at_weekends      13551 non-null    float64\n",
      " 45  rent_price_on_regular_days  18068 non-null    float64\n",
      " 46  rent_price_on_special_days  10463 non-null    float64\n",
      " 47  rent_to_single              19 non-null       object \n",
      " 48  rent_type                   103961 non-null   object \n",
      " 49  rent_value                  351322 non-null   float64\n",
      " 50  rooms_count                 845899 non-null   object \n",
      " 51  title                       999946 non-null   object \n",
      " 52  total_floors_count          304352 non-null   object \n",
      " 53  transformable_credit        352085 non-null   float64\n",
      " 54  transformable_price         352894 non-null   object \n",
      " 55  transformable_rent          351248 non-null   float64\n",
      " 56  transformed_credit          72409 non-null    float64\n",
      " 57  transformed_rent            72409 non-null    float64\n",
      " 58  unit_per_floor              302283 non-null   object \n",
      " 59  user_type                   288882 non-null   object \n",
      "dtypes: float64(16), int64(1), object(43)\n",
      "memory usage: 457.8+ MB\n"
     ]
    }
   ],
   "source": [
    "df_divar_1 = df_divar.drop('location_radius', axis=1)\n",
    "df_divar_1.info()"
   ]
  },
  {
   "cell_type": "markdown",
   "id": "6b89d143",
   "metadata": {},
   "source": [
    "<p dir=rtl style=\" text-align: center; font-style:b\">\n",
    "<font face=\"vazir\" size=5>\n",
    "حذف دو سطر از دیتافریم \n"
   ]
  },
  {
   "cell_type": "code",
   "execution_count": 3,
   "id": "34f97395",
   "metadata": {},
   "outputs": [],
   "source": [
    "df_divar_2= df_divar_1.drop(index=292674)\n",
    "df_divar_2 = df_divar_2.reset_index(drop=True)"
   ]
  },
  {
   "cell_type": "code",
   "execution_count": 4,
   "id": "75b180ac",
   "metadata": {},
   "outputs": [],
   "source": [
    "df_divar_2= df_divar_2.drop(index=338800)\n",
    "df_divar_2 = df_divar_2.reset_index(drop=True)"
   ]
  },
  {
   "cell_type": "markdown",
   "id": "364e205c",
   "metadata": {},
   "source": [
    "<p dir=rtl style=\" text-align: center; font-style:b\">\n",
    "<font face=\"vazir\" size=5>\n",
    "پر کردن سطر خالی ستون city_slug"
   ]
  },
  {
   "cell_type": "code",
   "execution_count": 5,
   "id": "aadf495c",
   "metadata": {},
   "outputs": [],
   "source": [
    "df_divar_2.loc[676500, 'city_slug'] = 'shiraz'"
   ]
  },
  {
   "cell_type": "markdown",
   "id": "8300f2bc",
   "metadata": {},
   "source": [
    "<p dir=rtl style=\" text-align: center; font-style:b\">\n",
    "<font face=\"vazir\" size=5>\n",
    "حذف ستون cost_per_extra_person"
   ]
  },
  {
   "cell_type": "code",
   "execution_count": 6,
   "id": "bae63681",
   "metadata": {},
   "outputs": [],
   "source": [
    "df_divar_2 = df_divar_2.drop('cost_per_extra_person', axis=1)"
   ]
  },
  {
   "cell_type": "markdown",
   "id": "524eb624",
   "metadata": {},
   "source": [
    "<p dir=rtl style=\" text-align: center; font-style:b\">\n",
    "<font face=\"vazir\" size=5>\n",
    "حذف ستون Unnamed: 0"
   ]
  },
  {
   "cell_type": "code",
   "execution_count": 7,
   "id": "c9706d88",
   "metadata": {},
   "outputs": [],
   "source": [
    "df_divar_2 = df_divar_2.drop('Unnamed: 0', axis = 1)"
   ]
  },
  {
   "cell_type": "markdown",
   "id": "20475e58",
   "metadata": {},
   "source": [
    "<p dir=rtl style=\" text-align: center; font-style:b\">\n",
    "<font face=\"vazir\" size=5>\n",
    "حذف ستون های credit_mode و rent_mode"
   ]
  },
  {
   "cell_type": "code",
   "execution_count": 8,
   "id": "f271ec7a",
   "metadata": {},
   "outputs": [],
   "source": [
    "df_divar_2 = df_divar_2.drop(columns=['credit_mode','rent_mode'])"
   ]
  },
  {
   "cell_type": "markdown",
   "id": "7cbcf2e8",
   "metadata": {},
   "source": [
    "<p dir=rtl style=\" text-align: center; font-style:b\">\n",
    "<font face=\"vazir\" size=5>\n",
    "حذف ستون extra_person_capacity"
   ]
  },
  {
   "cell_type": "code",
   "execution_count": 9,
   "id": "f66c64b6",
   "metadata": {},
   "outputs": [],
   "source": [
    "df_divar_2 = df_divar_2.drop('extra_person_capacity', axis=1)"
   ]
  },
  {
   "cell_type": "markdown",
   "id": "b7693aff",
   "metadata": {},
   "source": [
    "<p dir=rtl style=\" text-align: center; font-style:b\">\n",
    "<font face=\"vazir\" size=5>\n",
    "حذف ستون های زیر "
   ]
  },
  {
   "cell_type": "code",
   "execution_count": 10,
   "id": "76337aa4",
   "metadata": {},
   "outputs": [],
   "source": [
    "df_divar_2 = df_divar_2.drop(columns=['has_barbecue','has_business_deed','has_electricity','has_gas','has_jacuzzi','has_pool','has_water','has_sauna','has_security_guard','regular_person_capacity','total_floors_count','unit_per_floor','user_type','has_restroom'])"
   ]
  },
  {
   "cell_type": "markdown",
   "id": "f954e782",
   "metadata": {},
   "source": [
    "<p dir=rtl style=\" text-align: center; font-style:b\">\n",
    "<font face=\"vazir\" size=5>\n",
    "حذف ستون rent_to_single"
   ]
  },
  {
   "cell_type": "code",
   "execution_count": 11,
   "id": "d35aaa73",
   "metadata": {},
   "outputs": [],
   "source": [
    "df_divar_2 = df_divar_2.drop('rent_to_single', axis=1)"
   ]
  },
  {
   "cell_type": "markdown",
   "id": "6bffc3e9",
   "metadata": {},
   "source": [
    "<p dir=rtl style=\" text-align: center; font-style:b\">\n",
    "<font face=\"vazir\" size=5>\n",
    "حذف ستون های rent_price_at_weekends , rent_price_on_regular_days , rent_price_on_special_days"
   ]
  },
  {
   "cell_type": "code",
   "execution_count": 12,
   "id": "7d813bef",
   "metadata": {},
   "outputs": [],
   "source": [
    "df_divar_2 = df_divar_2.drop(columns=['rent_price_at_weekends','rent_price_on_regular_days','rent_price_on_special_days'])"
   ]
  },
  {
   "cell_type": "markdown",
   "id": "e7758620",
   "metadata": {},
   "source": [
    "<p dir=rtl style=\" text-align: center; font-style:b\">\n",
    "<font face=\"vazir\" size=5>\n",
    "حذف ستون property_type"
   ]
  },
  {
   "cell_type": "code",
   "execution_count": 13,
   "id": "415fc87e",
   "metadata": {},
   "outputs": [],
   "source": [
    "df_divar_2 = df_divar_2.drop('property_type',axis=1)"
   ]
  },
  {
   "cell_type": "markdown",
   "id": "b041006d",
   "metadata": {},
   "source": [
    "<p dir=rtl style=\" text-align: center; font-style:b\">\n",
    "<font face=\"vazir\" size=5>\n",
    "حذف ستون price_mode"
   ]
  },
  {
   "cell_type": "code",
   "execution_count": 14,
   "id": "bd853ade",
   "metadata": {},
   "outputs": [],
   "source": [
    "df_divar_2 = df_divar_2.drop('price_mode', axis = 1)"
   ]
  },
  {
   "cell_type": "markdown",
   "id": "223654d5",
   "metadata": {},
   "source": [
    "<p dir=rtl style=\" text-align: center; font-style:b\">\n",
    "<font face=\"vazir\" size=5>\n",
    "حذف ستون land_size"
   ]
  },
  {
   "cell_type": "code",
   "execution_count": 15,
   "id": "e6be02f3",
   "metadata": {},
   "outputs": [],
   "source": [
    "df_divar_2 = df_divar_2.drop('land_size', axis=1)"
   ]
  },
  {
   "cell_type": "markdown",
   "id": "a1e92e0f",
   "metadata": {},
   "source": [
    "<p dir=rtl style=\" text-align: center; font-style:b\">\n",
    "<font face=\"vazir\" size=5>\n",
    "تبدیل مقادیر ستون deed_type  به 0 و 1\n",
    "<br>\n",
    "تغییر نام ستون به deed  \n",
    "<br>\n",
    "تبدیل تایپ ستون deed به int64"
   ]
  },
  {
   "cell_type": "code",
   "execution_count": 16,
   "id": "f946d2d9",
   "metadata": {},
   "outputs": [],
   "source": [
    "df_filtered = df_divar_2[df_divar_2['description'].str.contains('سند', na=False)]\n",
    "df_filtered.loc[df_filtered['deed_type'] == 'unselect', 'deed_type'] = 1\n",
    "df_divar_2.update(df_filtered)\n"
   ]
  },
  {
   "cell_type": "code",
   "execution_count": 17,
   "id": "f3f21f1a",
   "metadata": {},
   "outputs": [],
   "source": [
    "df_divar_2.loc[df_divar_2['deed_type'].isin(['single_page', 'multi_page']), 'deed_type'] = 1\n"
   ]
  },
  {
   "cell_type": "code",
   "execution_count": 18,
   "id": "f326ba19",
   "metadata": {},
   "outputs": [],
   "source": [
    "df_divar_2.loc[df_divar_2['deed_type'] != 1, 'deed_type'] = 0\n"
   ]
  },
  {
   "cell_type": "code",
   "execution_count": 19,
   "id": "116a6fcd",
   "metadata": {},
   "outputs": [],
   "source": [
    "df_divar_2.rename(columns={'deed_type': 'deed'}, inplace=True)\n"
   ]
  },
  {
   "cell_type": "code",
   "execution_count": 20,
   "id": "7800af54",
   "metadata": {},
   "outputs": [],
   "source": [
    "df_divar_2['deed'] = df_divar_2['deed'].astype(int)\n"
   ]
  },
  {
   "cell_type": "markdown",
   "id": "51c2a206",
   "metadata": {},
   "source": [
    "<p dir=rtl style=\" text-align: center; font-style:b\">\n",
    "<font face=\"vazir\" size=5>\n",
    "پر کردن ستون has_elevator با روش get-dummies"
   ]
  },
  {
   "cell_type": "code",
   "execution_count": 21,
   "id": "4681a604",
   "metadata": {},
   "outputs": [],
   "source": [
    "df_divar_5 = pd.get_dummies(df_divar_2, columns=['has_elevator'], drop_first=True)"
   ]
  },
  {
   "cell_type": "markdown",
   "id": "e1746005",
   "metadata": {},
   "source": [
    "<p dir=rtl style=\" text-align: center; font-style:b\">\n",
    "<font face=\"vazir\" size=5>\n",
    "حذف سه ستون rent_type , transformed_rent , transformed_credit"
   ]
  },
  {
   "cell_type": "code",
   "execution_count": 22,
   "id": "a7c116d5",
   "metadata": {},
   "outputs": [],
   "source": [
    "df_divar_5.drop(['rent_type','transformed_rent','transformed_credit'], axis=1, inplace=True)"
   ]
  },
  {
   "cell_type": "markdown",
   "id": "b2b8ad6e",
   "metadata": {},
   "source": [
    "<p dir=rtl style=\" text-align: center; font-style:b\">\n",
    "<font face=\"vazir\" size=5>\n",
    "حذف سه ستون has_cooling_system , has_heating_system , has_warm_water_provider"
   ]
  },
  {
   "cell_type": "code",
   "execution_count": 23,
   "id": "39652898",
   "metadata": {},
   "outputs": [],
   "source": [
    "df_divar_5.drop(['has_cooling_system','has_heating_system','has_warm_water_provider'], axis=1, inplace=True)"
   ]
  },
  {
   "cell_type": "markdown",
   "id": "65254169",
   "metadata": {},
   "source": [
    "<p dir=rtl style=\" text-align: center; font-style:b\">\n",
    "<font face=\"vazir\" size=5>\n",
    "حذف ستون floor_type"
   ]
  },
  {
   "cell_type": "code",
   "execution_count": 24,
   "id": "70c8f558",
   "metadata": {},
   "outputs": [],
   "source": [
    "df_divar_5.drop(['floor_material'], axis=1, inplace=True)"
   ]
  },
  {
   "cell_type": "markdown",
   "id": "2cb5a5ab",
   "metadata": {},
   "source": [
    "<p dir=rtl style=\" text-align: center; font-style:b\">\n",
    "<font face=\"vazir\" size=5>\n",
    "ستون building_direction\n",
    "<br>\n",
    "nan کردن سطرهای دارای unselect\n",
    "<br>\n",
    "تبدیل به get_dummies "
   ]
  },
  {
   "cell_type": "code",
   "execution_count": 25,
   "id": "6620137f",
   "metadata": {},
   "outputs": [
    {
     "name": "stderr",
     "output_type": "stream",
     "text": [
      "D:\\AppData\\ipykernel_36024\\4171466172.py:1: FutureWarning: A value is trying to be set on a copy of a DataFrame or Series through chained assignment using an inplace method.\n",
      "The behavior will change in pandas 3.0. This inplace method will never work because the intermediate object on which we are setting values always behaves as a copy.\n",
      "\n",
      "For example, when doing 'df[col].method(value, inplace=True)', try using 'df.method({col: value}, inplace=True)' or df[col] = df[col].method(value) instead, to perform the operation inplace on the original object.\n",
      "\n",
      "\n",
      "  df_divar_5['building_direction'].replace('unselect', pd.NA, inplace=True)\n"
     ]
    }
   ],
   "source": [
    "df_divar_5['building_direction'].replace('unselect', pd.NA, inplace=True)\n",
    "df_divar_6 = pd.get_dummies(df_divar_5, columns=['building_direction'])"
   ]
  },
  {
   "cell_type": "markdown",
   "id": "a2e09eae",
   "metadata": {},
   "source": [
    "<p dir=rtl style=\" text-align: center; font-style:b\">\n",
    "<font face=\"vazir\" size=5>\n",
    "تبدیل تایپ ستون deed به bool"
   ]
  },
  {
   "cell_type": "code",
   "execution_count": 26,
   "id": "7a12d232",
   "metadata": {},
   "outputs": [],
   "source": [
    "df_divar_6['deed'] = df_divar_6['deed'].astype(bool)"
   ]
  },
  {
   "cell_type": "markdown",
   "id": "932c3138",
   "metadata": {},
   "source": [
    "<p dir=rtl style=\" text-align: center; font-style:b\">\n",
    "<font face=\"vazir\" size=5>\n",
    "حذف ستون floor"
   ]
  },
  {
   "cell_type": "code",
   "execution_count": 27,
   "id": "e23338e5",
   "metadata": {},
   "outputs": [],
   "source": [
    "df_divar_6.drop(['floor'], axis=1, inplace=True)"
   ]
  },
  {
   "cell_type": "markdown",
   "id": "01bea4bf",
   "metadata": {},
   "source": [
    "<p dir=rtl style=\" text-align: center; font-style:b\">\n",
    "<font face=\"vazir\" size=5>\n",
    "تغییر ستون has_balcony و پر کردن سطرهای آن"
   ]
  },
  {
   "cell_type": "code",
   "execution_count": 28,
   "id": "a28b04ed",
   "metadata": {},
   "outputs": [
    {
     "name": "stderr",
     "output_type": "stream",
     "text": [
      "D:\\AppData\\ipykernel_36024\\3645945802.py:7: FutureWarning: A value is trying to be set on a copy of a DataFrame or Series through chained assignment using an inplace method.\n",
      "The behavior will change in pandas 3.0. This inplace method will never work because the intermediate object on which we are setting values always behaves as a copy.\n",
      "\n",
      "For example, when doing 'df[col].method(value, inplace=True)', try using 'df.method({col: value}, inplace=True)' or df[col] = df[col].method(value) instead, to perform the operation inplace on the original object.\n",
      "\n",
      "\n",
      "  filtered_has_balcon['has_balcony'].fillna(True, inplace=True)\n",
      "D:\\AppData\\ipykernel_36024\\3645945802.py:7: SettingWithCopyWarning: \n",
      "A value is trying to be set on a copy of a slice from a DataFrame\n",
      "\n",
      "See the caveats in the documentation: https://pandas.pydata.org/pandas-docs/stable/user_guide/indexing.html#returning-a-view-versus-a-copy\n",
      "  filtered_has_balcon['has_balcony'].fillna(True, inplace=True)\n",
      "D:\\AppData\\ipykernel_36024\\3645945802.py:9: FutureWarning: A value is trying to be set on a copy of a DataFrame or Series through chained assignment using an inplace method.\n",
      "The behavior will change in pandas 3.0. This inplace method will never work because the intermediate object on which we are setting values always behaves as a copy.\n",
      "\n",
      "For example, when doing 'df[col].method(value, inplace=True)', try using 'df.method({col: value}, inplace=True)' or df[col] = df[col].method(value) instead, to perform the operation inplace on the original object.\n",
      "\n",
      "\n",
      "  df_divar_7['has_balcony'].replace('unselect', pd.NA, inplace=True)\n",
      "D:\\AppData\\ipykernel_36024\\3645945802.py:10: FutureWarning: A value is trying to be set on a copy of a DataFrame or Series through chained assignment using an inplace method.\n",
      "The behavior will change in pandas 3.0. This inplace method will never work because the intermediate object on which we are setting values always behaves as a copy.\n",
      "\n",
      "For example, when doing 'df[col].method(value, inplace=True)', try using 'df.method({col: value}, inplace=True)' or df[col] = df[col].method(value) instead, to perform the operation inplace on the original object.\n",
      "\n",
      "\n",
      "  df_divar_7['has_balcony'].replace('false', False, inplace=True)\n",
      "D:\\AppData\\ipykernel_36024\\3645945802.py:11: FutureWarning: A value is trying to be set on a copy of a DataFrame or Series through chained assignment using an inplace method.\n",
      "The behavior will change in pandas 3.0. This inplace method will never work because the intermediate object on which we are setting values always behaves as a copy.\n",
      "\n",
      "For example, when doing 'df[col].method(value, inplace=True)', try using 'df.method({col: value}, inplace=True)' or df[col] = df[col].method(value) instead, to perform the operation inplace on the original object.\n",
      "\n",
      "\n",
      "  df_divar_7['has_balcony'].replace('true', True, inplace=True)\n"
     ]
    }
   ],
   "source": [
    "has_not_balcon = df_divar_6[df_divar_6['description'].str.contains(r'تراس ندارد|بالکن ندارد|فاقد تراس|فاقد بالکن', na=False, regex=True)] \n",
    "has_not_balcon.loc[has_not_balcon['has_balcony'].isin([True, 'true']), 'has_balcony'] = False\n",
    "has_not_balcon.loc[has_not_balcon['has_balcony'].isin(['false']), 'has_balcony'] = False\n",
    "df_divar_7 = df_divar_6.copy()\n",
    "df_divar_7.update(has_not_balcon)\n",
    "filtered_has_balcon = df_divar_7[df_divar_7['description'].str.contains('تراس|بالکن', na=False, regex=True)]\n",
    "filtered_has_balcon['has_balcony'].fillna(True, inplace=True)\n",
    "df_divar_7.update(filtered_has_balcon)\n",
    "df_divar_7['has_balcony'].replace('unselect', pd.NA, inplace=True)\n",
    "df_divar_7['has_balcony'].replace('false', False, inplace=True)\n",
    "df_divar_7['has_balcony'].replace('true', True, inplace=True)\n",
    "df_divar_8 = pd.get_dummies(df_divar_7, columns=['has_balcony'])"
   ]
  },
  {
   "cell_type": "markdown",
   "id": "93b11d65",
   "metadata": {},
   "source": [
    "<p dir=rtl style=\" text-align: center; font-style:b\">\n",
    "<font face=\"vazir\" size=5>\n",
    "پر کردن ستون has_parking"
   ]
  },
  {
   "cell_type": "code",
   "execution_count": 29,
   "id": "c5881e60",
   "metadata": {},
   "outputs": [],
   "source": [
    "df_divar_9 = pd.get_dummies(df_divar_8, columns=['has_parking'])"
   ]
  },
  {
   "cell_type": "markdown",
   "id": "2fef07d5",
   "metadata": {},
   "source": [
    "<p dir=rtl style=\" text-align: center; font-style:b\">\n",
    "<font face=\"vazir\" size=5>\n",
    "پر کردن ستون has_warehouse"
   ]
  },
  {
   "cell_type": "code",
   "execution_count": 30,
   "id": "743d325e",
   "metadata": {},
   "outputs": [],
   "source": [
    "df_divar_10 = pd.get_dummies(df_divar_9, columns= ['has_warehouse'])"
   ]
  },
  {
   "cell_type": "markdown",
   "id": "1f19f3ad",
   "metadata": {},
   "source": [
    "<p dir=rtl style=\" text-align: center; font-style:b\">\n",
    "<font face=\"vazir\" size=5>\n",
    "پر کردن ستون is_rebuilt"
   ]
  },
  {
   "cell_type": "code",
   "execution_count": 31,
   "id": "83c5fdd4",
   "metadata": {},
   "outputs": [],
   "source": [
    "df_divar_11 = pd.get_dummies(df_divar_10, columns= ['is_rebuilt'])"
   ]
  },
  {
   "cell_type": "markdown",
   "id": "362dc371",
   "metadata": {},
   "source": [
    "حذف کردن سطرهای خالی ستون construction_year"
   ]
  },
  {
   "cell_type": "code",
   "execution_count": 32,
   "id": "d951c903",
   "metadata": {},
   "outputs": [
    {
     "name": "stderr",
     "output_type": "stream",
     "text": [
      "D:\\AppData\\ipykernel_36024\\1454868480.py:1: FutureWarning: A value is trying to be set on a copy of a DataFrame or Series through chained assignment using an inplace method.\n",
      "The behavior will change in pandas 3.0. This inplace method will never work because the intermediate object on which we are setting values always behaves as a copy.\n",
      "\n",
      "For example, when doing 'df[col].method(value, inplace=True)', try using 'df.method({col: value}, inplace=True)' or df[col] = df[col].method(value) instead, to perform the operation inplace on the original object.\n",
      "\n",
      "\n",
      "  df_divar_11['construction_year'].replace('قبل از ۱۳۷۰','۱۳۷۰', inplace=True)\n"
     ]
    }
   ],
   "source": [
    "df_divar_11['construction_year'].replace('قبل از ۱۳۷۰','۱۳۷۰', inplace=True)\n",
    "df_divar_11.dropna(subset=['construction_year'], inplace=True)\n"
   ]
  },
  {
   "cell_type": "markdown",
   "id": "57ede90b",
   "metadata": {},
   "source": [
    "حذف کردن سطرهای خالی ستون building_size"
   ]
  },
  {
   "cell_type": "code",
   "execution_count": 33,
   "id": "b98ad97e",
   "metadata": {},
   "outputs": [],
   "source": [
    "df_divar_11.dropna(subset=['building_size'], inplace=True)"
   ]
  },
  {
   "cell_type": "markdown",
   "id": "bfe21a49",
   "metadata": {},
   "source": [
    "تبدیل اعداد فارسی به اعداد انگلیسی ستون construction_year"
   ]
  },
  {
   "cell_type": "code",
   "execution_count": 34,
   "id": "2057b353",
   "metadata": {},
   "outputs": [],
   "source": [
    "df_divar_11['construction_year'] = df_divar_11['construction_year'].astype(str).str.translate(str.maketrans('۰۱۲۳۴۵۶۷۸۹', '0123456789')).astype(int)\n"
   ]
  },
  {
   "cell_type": "markdown",
   "id": "d8e5c119",
   "metadata": {},
   "source": [
    "حذف سطرهای خالی ستون تعداد اتاق ها"
   ]
  },
  {
   "cell_type": "code",
   "execution_count": 35,
   "id": "5e27a8a2",
   "metadata": {},
   "outputs": [],
   "source": [
    "df_divar_11.dropna(subset=['rooms_count'], inplace=True)"
   ]
  },
  {
   "cell_type": "markdown",
   "id": "84b97995",
   "metadata": {},
   "source": [
    "تبدیل متن ها به عدد فارسی و سپس تبدیل اعداد فارسی به انگلیسی و تبدیل تایپ ستون به int"
   ]
  },
  {
   "cell_type": "code",
   "execution_count": 36,
   "id": "43fe6ae5",
   "metadata": {},
   "outputs": [
    {
     "name": "stderr",
     "output_type": "stream",
     "text": [
      "D:\\AppData\\ipykernel_36024\\4016796824.py:1: FutureWarning: A value is trying to be set on a copy of a DataFrame or Series through chained assignment using an inplace method.\n",
      "The behavior will change in pandas 3.0. This inplace method will never work because the intermediate object on which we are setting values always behaves as a copy.\n",
      "\n",
      "For example, when doing 'df[col].method(value, inplace=True)', try using 'df.method({col: value}, inplace=True)' or df[col] = df[col].method(value) instead, to perform the operation inplace on the original object.\n",
      "\n",
      "\n",
      "  df_divar_11['rooms_count'].replace('بدون اتاق', '0',  inplace=True)\n",
      "D:\\AppData\\ipykernel_36024\\4016796824.py:2: FutureWarning: A value is trying to be set on a copy of a DataFrame or Series through chained assignment using an inplace method.\n",
      "The behavior will change in pandas 3.0. This inplace method will never work because the intermediate object on which we are setting values always behaves as a copy.\n",
      "\n",
      "For example, when doing 'df[col].method(value, inplace=True)', try using 'df.method({col: value}, inplace=True)' or df[col] = df[col].method(value) instead, to perform the operation inplace on the original object.\n",
      "\n",
      "\n",
      "  df_divar_11['rooms_count'].replace('یک','1',  inplace=True)\n",
      "D:\\AppData\\ipykernel_36024\\4016796824.py:3: FutureWarning: A value is trying to be set on a copy of a DataFrame or Series through chained assignment using an inplace method.\n",
      "The behavior will change in pandas 3.0. This inplace method will never work because the intermediate object on which we are setting values always behaves as a copy.\n",
      "\n",
      "For example, when doing 'df[col].method(value, inplace=True)', try using 'df.method({col: value}, inplace=True)' or df[col] = df[col].method(value) instead, to perform the operation inplace on the original object.\n",
      "\n",
      "\n",
      "  df_divar_11['rooms_count'].replace('دو','2',  inplace=True)\n",
      "D:\\AppData\\ipykernel_36024\\4016796824.py:4: FutureWarning: A value is trying to be set on a copy of a DataFrame or Series through chained assignment using an inplace method.\n",
      "The behavior will change in pandas 3.0. This inplace method will never work because the intermediate object on which we are setting values always behaves as a copy.\n",
      "\n",
      "For example, when doing 'df[col].method(value, inplace=True)', try using 'df.method({col: value}, inplace=True)' or df[col] = df[col].method(value) instead, to perform the operation inplace on the original object.\n",
      "\n",
      "\n",
      "  df_divar_11['rooms_count'].replace('سه','3',  inplace=True)\n",
      "D:\\AppData\\ipykernel_36024\\4016796824.py:5: FutureWarning: A value is trying to be set on a copy of a DataFrame or Series through chained assignment using an inplace method.\n",
      "The behavior will change in pandas 3.0. This inplace method will never work because the intermediate object on which we are setting values always behaves as a copy.\n",
      "\n",
      "For example, when doing 'df[col].method(value, inplace=True)', try using 'df.method({col: value}, inplace=True)' or df[col] = df[col].method(value) instead, to perform the operation inplace on the original object.\n",
      "\n",
      "\n",
      "  df_divar_11['rooms_count'].replace('چهار', '4',  inplace=True)\n",
      "D:\\AppData\\ipykernel_36024\\4016796824.py:6: FutureWarning: A value is trying to be set on a copy of a DataFrame or Series through chained assignment using an inplace method.\n",
      "The behavior will change in pandas 3.0. This inplace method will never work because the intermediate object on which we are setting values always behaves as a copy.\n",
      "\n",
      "For example, when doing 'df[col].method(value, inplace=True)', try using 'df.method({col: value}, inplace=True)' or df[col] = df[col].method(value) instead, to perform the operation inplace on the original object.\n",
      "\n",
      "\n",
      "  df_divar_11['rooms_count'].replace('پنج یا بیشتر', '5',  inplace=True)\n"
     ]
    }
   ],
   "source": [
    "df_divar_11['rooms_count'].replace('بدون اتاق', '0',  inplace=True)\n",
    "df_divar_11['rooms_count'].replace('یک','1',  inplace=True)\n",
    "df_divar_11['rooms_count'].replace('دو','2',  inplace=True)\n",
    "df_divar_11['rooms_count'].replace('سه','3',  inplace=True)\n",
    "df_divar_11['rooms_count'].replace('چهار', '4',  inplace=True)\n",
    "df_divar_11['rooms_count'].replace('پنج یا بیشتر', '5',  inplace=True)\n",
    "df_divar_11['rooms_count'] = df_divar_11['rooms_count'].astype(str).str.translate(str.maketrans('۰۱۲۳۴۵۶۷۸۹', '0123456789')).astype(int)"
   ]
  },
  {
   "cell_type": "markdown",
   "id": "605381cf",
   "metadata": {},
   "source": [
    "ریست شماره ایندکس ها"
   ]
  },
  {
   "cell_type": "code",
   "execution_count": 37,
   "id": "1d47ceb6",
   "metadata": {},
   "outputs": [],
   "source": [
    "df_divar_11.reset_index(drop=True, inplace=True)"
   ]
  },
  {
   "cell_type": "markdown",
   "id": "cf2fd292",
   "metadata": {},
   "source": [
    "تغییر نام ستون city_slug به city"
   ]
  },
  {
   "cell_type": "code",
   "execution_count": 38,
   "id": "178a0408",
   "metadata": {},
   "outputs": [],
   "source": [
    "df_divar_11.rename(columns={'city_slug': 'city'}, inplace=True)\n"
   ]
  },
  {
   "cell_type": "markdown",
   "id": "815a1186",
   "metadata": {},
   "source": [
    "تغییر نام ستون neighborhood_slug به neighborhood"
   ]
  },
  {
   "cell_type": "code",
   "execution_count": 39,
   "id": "1ff2c0b6",
   "metadata": {},
   "outputs": [],
   "source": [
    "df_divar_11.rename(columns={'neighborhood_slug': 'neighborhood'}, inplace=True)\n"
   ]
  },
  {
   "cell_type": "markdown",
   "id": "b5a31100",
   "metadata": {},
   "source": [
    "پر کردن سطرهای خالی ستون neighborhood با اسم شهرها از ستون city"
   ]
  },
  {
   "cell_type": "code",
   "execution_count": 40,
   "id": "03956240",
   "metadata": {},
   "outputs": [],
   "source": [
    "df_divar_12 = df_divar_11.copy()\n",
    "df_divar_12.loc[df_divar_12['neighborhood'].isna(), 'neighborhood'] = df_divar_12['city']\n"
   ]
  },
  {
   "cell_type": "markdown",
   "id": "70c207ad",
   "metadata": {},
   "source": [
    "حذف قسمت 00:00:00 از مقادیر ستون created_at_month"
   ]
  },
  {
   "cell_type": "code",
   "execution_count": 41,
   "id": "d69cd2a6",
   "metadata": {},
   "outputs": [],
   "source": [
    "df_divar_12['created_at_month'] = df_divar_12['created_at_month'].str.replace(r'00:00:00', '', regex=True)\n"
   ]
  },
  {
   "cell_type": "markdown",
   "id": "b0be1897",
   "metadata": {},
   "source": [
    "تبدیل ستون created_at_month به فرمت datetime"
   ]
  },
  {
   "cell_type": "code",
   "execution_count": 42,
   "id": "89496c41",
   "metadata": {},
   "outputs": [],
   "source": [
    "df_divar_12['created_at_month'] = pd.to_datetime(df_divar_12['created_at_month'])"
   ]
  },
  {
   "cell_type": "markdown",
   "id": "aa4c75f0",
   "metadata": {},
   "source": [
    "حذف سطر دارای plot-old برای یکپارچه سازی داده ها "
   ]
  },
  {
   "cell_type": "code",
   "execution_count": 43,
   "id": "d55f2dae",
   "metadata": {},
   "outputs": [],
   "source": [
    "df_divar_13 = df_divar_12.loc[df_divar_12['cat3_slug'] != 'plot-old']\n",
    "df_divar_13.reset_index(drop=True, inplace=True)"
   ]
  },
  {
   "cell_type": "markdown",
   "id": "03a61001",
   "metadata": {},
   "source": [
    "حذف عبارات -sell و -rent برای نمایش بهتر دسته بندی ها "
   ]
  },
  {
   "cell_type": "code",
   "execution_count": 44,
   "id": "3ab2cf7d",
   "metadata": {},
   "outputs": [],
   "source": [
    "df_divar_13 = df_divar_13.copy()\n",
    "df_divar_13['cat3_slug'] = df_divar_13['cat3_slug'].str.replace(r'-sell|-rent', '', regex=True)"
   ]
  },
  {
   "cell_type": "markdown",
   "id": "017f4880",
   "metadata": {},
   "source": [
    "تغییر نام ستون های زیر \n",
    "<br>\n",
    "cat2_slug : dealing_type\n",
    "<br>\n",
    "cat3_slug : estate_type"
   ]
  },
  {
   "cell_type": "code",
   "execution_count": 45,
   "id": "a71e9037",
   "metadata": {},
   "outputs": [],
   "source": [
    "df_divar_13 = df_divar_13.copy()\n",
    "df_divar_13.rename(columns={'cat2_slug': 'dealing_type', 'cat3_slug': 'estate_type'}, inplace=True)"
   ]
  },
  {
   "cell_type": "markdown",
   "id": "e424b297",
   "metadata": {},
   "source": [
    "حذف ستون های \n",
    "<br>\n",
    "location_latitude  ,  location_longitude , description , title"
   ]
  },
  {
   "cell_type": "code",
   "execution_count": 46,
   "id": "42856781",
   "metadata": {},
   "outputs": [],
   "source": [
    "df_divar_14 = df_divar_13.copy()\n",
    "df_divar_14.drop(['location_latitude','location_longitude','description', 'title'], axis=1, inplace=True)"
   ]
  },
  {
   "cell_type": "markdown",
   "id": "954ccfb9",
   "metadata": {},
   "source": [
    "تبدیل فرمت ستون های dealing_type  و estate_type به بولین با get_dummies"
   ]
  },
  {
   "cell_type": "code",
   "execution_count": 47,
   "id": "0080a956",
   "metadata": {},
   "outputs": [],
   "source": [
    "df_divar_14 = pd.get_dummies(df_divar_14, columns=['dealing_type','estate_type'])"
   ]
  },
  {
   "cell_type": "markdown",
   "id": "984f4204",
   "metadata": {},
   "source": [
    "تغییر تایپ ستون های city و neighborhood با استفاده از binaryencoder"
   ]
  },
  {
   "cell_type": "code",
   "execution_count": 48,
   "id": "5ba4d4dc",
   "metadata": {},
   "outputs": [],
   "source": [
    "encoder = ce.BinaryEncoder(cols=['city','neighborhood'])\n",
    "df_divar_15 = encoder.fit_transform(df_divar_14)\n"
   ]
  },
  {
   "cell_type": "code",
   "execution_count": 49,
   "id": "ceaecd0b",
   "metadata": {},
   "outputs": [],
   "source": [
    "df_divar_16 = df_divar_15.copy()"
   ]
  },
  {
   "cell_type": "markdown",
   "id": "9b3dfee5",
   "metadata": {},
   "source": [
    "ریست کردن شماره ایندکس ها بدلیل حذف سطر"
   ]
  },
  {
   "cell_type": "code",
   "execution_count": 50,
   "id": "1d6ff491",
   "metadata": {},
   "outputs": [],
   "source": [
    "df_divar_16.reset_index(drop= True, inplace = True)"
   ]
  },
  {
   "cell_type": "markdown",
   "id": "fac1c4a9",
   "metadata": {},
   "source": [
    "تغییر نام ستون created_at_month به creation_date"
   ]
  },
  {
   "cell_type": "code",
   "execution_count": 51,
   "id": "f27f2e43",
   "metadata": {},
   "outputs": [],
   "source": [
    "divar_16 = df_divar_16.copy()\n",
    "divar_16.rename(columns={'created_at_month':'creation_date'}, inplace=True)"
   ]
  },
  {
   "cell_type": "markdown",
   "id": "b0f1b3c5",
   "metadata": {},
   "source": [
    "استفاده از binary_encoder برای تغییر تایپ creation_date"
   ]
  },
  {
   "cell_type": "code",
   "execution_count": 52,
   "id": "8eb072be",
   "metadata": {},
   "outputs": [],
   "source": [
    "encoder = ce.BinaryEncoder(cols=['creation_date'])\n",
    "divar_17 = encoder.fit_transform(divar_16)\n"
   ]
  },
  {
   "cell_type": "code",
   "execution_count": 53,
   "id": "7b53471a",
   "metadata": {},
   "outputs": [],
   "source": [
    "df_price = divar_17.copy()"
   ]
  },
  {
   "cell_type": "markdown",
   "id": "6d364c5e",
   "metadata": {},
   "source": [
    "حذف ستون های \n",
    "<br>\n",
    "credit_value , rent_credit_transform , rent_value , transformable_credit , transformable_rent , transformable_price "
   ]
  },
  {
   "cell_type": "code",
   "execution_count": 54,
   "id": "c930a615",
   "metadata": {},
   "outputs": [],
   "source": [
    "df_price.drop(columns=['credit_value','rent_credit_transform','rent_value','transformable_credit','transformable_rent','transformable_price'], axis=1, inplace=True)"
   ]
  },
  {
   "cell_type": "markdown",
   "id": "ca8228db",
   "metadata": {},
   "source": [
    "حذف سطرهای خالی ستون price_value"
   ]
  },
  {
   "cell_type": "code",
   "execution_count": 55,
   "id": "bf46836e",
   "metadata": {},
   "outputs": [],
   "source": [
    "df_price_2 = df_price.dropna(subset=['price_value'])\n",
    "df_price_2.reset_index(drop = True , inplace = True)"
   ]
  },
  {
   "cell_type": "code",
   "execution_count": 56,
   "id": "1cb6c09d",
   "metadata": {},
   "outputs": [
    {
     "name": "stdout",
     "output_type": "stream",
     "text": [
      "<class 'pandas.core.frame.DataFrame'>\n",
      "RangeIndex: 456775 entries, 0 to 456774\n",
      "Data columns (total 53 columns):\n",
      " #   Column                                     Non-Null Count   Dtype  \n",
      "---  ------                                     --------------   -----  \n",
      " 0   building_size                              456775 non-null  float64\n",
      " 1   city_0                                     456775 non-null  int64  \n",
      " 2   city_1                                     456775 non-null  int64  \n",
      " 3   city_2                                     456775 non-null  int64  \n",
      " 4   city_3                                     456775 non-null  int64  \n",
      " 5   city_4                                     456775 non-null  int64  \n",
      " 6   city_5                                     456775 non-null  int64  \n",
      " 7   city_6                                     456775 non-null  int64  \n",
      " 8   city_7                                     456775 non-null  int64  \n",
      " 9   city_8                                     456775 non-null  int64  \n",
      " 10  construction_year                          456775 non-null  int64  \n",
      " 11  creation_date_0                            456775 non-null  int64  \n",
      " 12  creation_date_1                            456775 non-null  int64  \n",
      " 13  creation_date_2                            456775 non-null  int64  \n",
      " 14  creation_date_3                            456775 non-null  int64  \n",
      " 15  creation_date_4                            456775 non-null  int64  \n",
      " 16  creation_date_5                            456775 non-null  int64  \n",
      " 17  deed                                       456775 non-null  bool   \n",
      " 18  neighborhood_0                             456775 non-null  int64  \n",
      " 19  neighborhood_1                             456775 non-null  int64  \n",
      " 20  neighborhood_2                             456775 non-null  int64  \n",
      " 21  neighborhood_3                             456775 non-null  int64  \n",
      " 22  neighborhood_4                             456775 non-null  int64  \n",
      " 23  neighborhood_5                             456775 non-null  int64  \n",
      " 24  neighborhood_6                             456775 non-null  int64  \n",
      " 25  neighborhood_7                             456775 non-null  int64  \n",
      " 26  neighborhood_8                             456775 non-null  int64  \n",
      " 27  neighborhood_9                             456775 non-null  int64  \n",
      " 28  neighborhood_10                            456775 non-null  int64  \n",
      " 29  price_value                                456775 non-null  float64\n",
      " 30  rooms_count                                456775 non-null  int64  \n",
      " 31  has_elevator_True                          456775 non-null  bool   \n",
      " 32  building_direction_east                    456775 non-null  bool   \n",
      " 33  building_direction_north                   456775 non-null  bool   \n",
      " 34  building_direction_south                   456775 non-null  bool   \n",
      " 35  building_direction_west                    456775 non-null  bool   \n",
      " 36  has_balcony_False                          456775 non-null  bool   \n",
      " 37  has_balcony_True                           456775 non-null  bool   \n",
      " 38  has_parking_False                          456775 non-null  bool   \n",
      " 39  has_parking_True                           456775 non-null  bool   \n",
      " 40  has_warehouse_False                        456775 non-null  bool   \n",
      " 41  has_warehouse_True                         456775 non-null  bool   \n",
      " 42  is_rebuilt_False                           456775 non-null  bool   \n",
      " 43  is_rebuilt_True                            456775 non-null  bool   \n",
      " 44  dealing_type_commercial-rent               456775 non-null  bool   \n",
      " 45  dealing_type_commercial-sell               456775 non-null  bool   \n",
      " 46  dealing_type_residential-rent              456775 non-null  bool   \n",
      " 47  dealing_type_residential-sell              456775 non-null  bool   \n",
      " 48  estate_type_apartment                      456775 non-null  bool   \n",
      " 49  estate_type_house-villa                    456775 non-null  bool   \n",
      " 50  estate_type_industry-agriculture-business  456775 non-null  bool   \n",
      " 51  estate_type_office                         456775 non-null  bool   \n",
      " 52  estate_type_shop                           456775 non-null  bool   \n",
      "dtypes: bool(23), float64(2), int64(28)\n",
      "memory usage: 114.6 MB\n"
     ]
    }
   ],
   "source": [
    "df_price_2.info()"
   ]
  },
  {
   "cell_type": "code",
   "execution_count": null,
   "id": "215170ac",
   "metadata": {},
   "outputs": [],
   "source": []
  }
 ],
 "metadata": {
  "kernelspec": {
   "display_name": "Python 3",
   "language": "python",
   "name": "python3"
  },
  "language_info": {
   "codemirror_mode": {
    "name": "ipython",
    "version": 3
   },
   "file_extension": ".py",
   "mimetype": "text/x-python",
   "name": "python",
   "nbconvert_exporter": "python",
   "pygments_lexer": "ipython3",
   "version": "3.11.0"
  }
 },
 "nbformat": 4,
 "nbformat_minor": 5
}

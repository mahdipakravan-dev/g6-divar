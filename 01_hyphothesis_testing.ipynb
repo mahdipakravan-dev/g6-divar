{
  "cells": [
    {
      "cell_type": "markdown",
      "metadata": {
        "id": "5aArC7jVdCwO"
      },
      "source": [
        "<h1>بخش اول : پیش پردازش</h1>\n",
        "<p dir=\"rtl\">\n",
        "  تمامی مراحل پیش پردازش در مرحله قبلی انجام شده است\n",
        "</p>\n",
        "\n",
        "ما در تحلیلی که در انتهای پیش پردازش انجام دادیم متوجه شدیم برای پیدا کردن مقادیر گمشده راه حل خیلی خوبی وجود نداره\n",
        "برای همین در این قسمت تصمیم گرفتیم در نهایت داده های گم شده رو حذف کنیم و تعداد زیادی هم حذف نمیشود با توجه به اینکه کلا ۱۰۰هزار داده گمشده در مساحت بنا وجود داره"
      ]
    },
    {
      "cell_type": "code",
      "execution_count": null,
      "metadata": {
        "id": "ezneKBrMswtz"
      },
      "outputs": [],
      "source": [
        "import pandas as pd\n",
        "import numpy as np\n",
        "from sklearn.preprocessing import LabelEncoder"
      ]
    },
    {
      "cell_type": "code",
      "execution_count": null,
      "metadata": {
        "collapsed": true,
        "id": "hgHNTM2mz0xg"
      },
      "outputs": [],
      "source": [
        "irCitiesDf = pd.read_csv(\"drive/MyDrive/AiPractice-g6/divar__iran_city_classification.csv\")\n",
        "\n",
        "citiesLe = LabelEncoder()\n",
        "irCitiesDf = irCitiesDf.rename(columns={\n",
        "    'دسته‌بندی' : 'city_type',\n",
        "    'نام شهر' : 'city_name'\n",
        "})\n",
        "irCitiesDf[\"city_type\"] = citiesLe.fit_transform(irCitiesDf[\"city_type\"])"
      ]
    },
    {
      "cell_type": "code",
      "execution_count": null,
      "metadata": {
        "colab": {
          "base_uri": "https://localhost:8080/"
        },
        "id": "J0JZBs0EtORS",
        "outputId": "8231bd42-ecce-4f6d-9399-476ba8f7fac3"
      },
      "outputs": [
        {
          "output_type": "stream",
          "name": "stderr",
          "text": [
            "<ipython-input-4-3fe2c69301a6>:1: DtypeWarning: Columns (11,27,29,53) have mixed types. Specify dtype option on import or set low_memory=False.\n",
            "  mainDf = pd.read_csv(\"drive/MyDrive/AiPractice-g6/divar__main.csv\")\n"
          ]
        }
      ],
      "source": [
        "mainDf = pd.read_csv(\"drive/MyDrive/AiPractice-g6/divar__main.csv\")"
      ]
    },
    {
      "cell_type": "code",
      "execution_count": null,
      "metadata": {
        "id": "wArKefgPMfFW"
      },
      "outputs": [],
      "source": [
        "#---------------add a new column about being big city or not---------------\n",
        "#---------------Big cities---------------\n",
        "big_cities_name = []\n",
        "for j in irCitiesDf[irCitiesDf['city_type']== 1]['city_name'].values:\n",
        "    big_cities_name.append(j)\n",
        "\n",
        "mainDf['big_city'] = mainDf['city_slug'].isin(big_cities_name).astype(int)\n",
        "\n",
        "# #---------------change type of the created_at_month column---------------\n",
        "mainDf['created_at_month'] = pd.to_datetime(mainDf['created_at_month'])"
      ]
    },
    {
      "cell_type": "markdown",
      "metadata": {
        "id": "Q-VgQKCTbENt"
      },
      "source": [
        "<h2>سوال اول</h2>\n",
        "\n",
        "\n",
        "با توجه به رشد مهاجرت افراد از شهر‌های کوچکتر به کلان‌شهر‌ها و تراکم جمعیت در این نواحی، تصور می‌شود که میانگین مساحت خانه‌های مسکونی در کلان‌شهرها نسبت به شهر‌های کوچک و روستاها کمتر است. آیا مجموعه داده‌ این فرضیه را پشتیبانی می‌کند؟(برای دسته‌بندی شهرها به کلان‌شهر و شهر کوچک می‌توانید از این مجموعه داده استفاده کنید.)"
      ]
    },
    {
      "cell_type": "code",
      "execution_count": null,
      "metadata": {
        "colab": {
          "base_uri": "https://localhost:8080/",
          "height": 335
        },
        "id": "gRmNyRijMrWW",
        "outputId": "9dc9f88b-a5cc-49d3-ce24-979f1bf7010e"
      },
      "outputs": [
        {
          "output_type": "execute_result",
          "data": {
            "text/plain": [
              "count    9.803940e+05\n",
              "mean     4.440648e+03\n",
              "min      1.000000e+00\n",
              "25%      7.500000e+01\n",
              "50%      1.030000e+02\n",
              "75%      1.650000e+02\n",
              "max      1.000000e+07\n",
              "std      1.367118e+05\n",
              "Name: building_size, dtype: float64"
            ],
            "text/html": [
              "<div>\n",
              "<style scoped>\n",
              "    .dataframe tbody tr th:only-of-type {\n",
              "        vertical-align: middle;\n",
              "    }\n",
              "\n",
              "    .dataframe tbody tr th {\n",
              "        vertical-align: top;\n",
              "    }\n",
              "\n",
              "    .dataframe thead th {\n",
              "        text-align: right;\n",
              "    }\n",
              "</style>\n",
              "<table border=\"1\" class=\"dataframe\">\n",
              "  <thead>\n",
              "    <tr style=\"text-align: right;\">\n",
              "      <th></th>\n",
              "      <th>building_size</th>\n",
              "    </tr>\n",
              "  </thead>\n",
              "  <tbody>\n",
              "    <tr>\n",
              "      <th>count</th>\n",
              "      <td>9.803940e+05</td>\n",
              "    </tr>\n",
              "    <tr>\n",
              "      <th>mean</th>\n",
              "      <td>4.440648e+03</td>\n",
              "    </tr>\n",
              "    <tr>\n",
              "      <th>min</th>\n",
              "      <td>1.000000e+00</td>\n",
              "    </tr>\n",
              "    <tr>\n",
              "      <th>25%</th>\n",
              "      <td>7.500000e+01</td>\n",
              "    </tr>\n",
              "    <tr>\n",
              "      <th>50%</th>\n",
              "      <td>1.030000e+02</td>\n",
              "    </tr>\n",
              "    <tr>\n",
              "      <th>75%</th>\n",
              "      <td>1.650000e+02</td>\n",
              "    </tr>\n",
              "    <tr>\n",
              "      <th>max</th>\n",
              "      <td>1.000000e+07</td>\n",
              "    </tr>\n",
              "    <tr>\n",
              "      <th>std</th>\n",
              "      <td>1.367118e+05</td>\n",
              "    </tr>\n",
              "  </tbody>\n",
              "</table>\n",
              "</div><br><label><b>dtype:</b> float64</label>"
            ]
          },
          "metadata": {},
          "execution_count": 6
        }
      ],
      "source": [
        "mainDf.describe()[\"building_size\"]"
      ]
    },
    {
      "cell_type": "markdown",
      "metadata": {
        "id": "kTdlkMuEhOEm"
      },
      "source": [
        "بررسی ساختار توزیع مساحت زیربنا"
      ]
    },
    {
      "cell_type": "code",
      "execution_count": null,
      "metadata": {
        "colab": {
          "base_uri": "https://localhost:8080/",
          "height": 450
        },
        "id": "GnKfqgsVW8pJ",
        "outputId": "c067aca4-f200-485d-a365-91d6166e4605"
      },
      "outputs": [
        {
          "output_type": "display_data",
          "data": {
            "text/plain": [
              "<Figure size 640x480 with 1 Axes>"
            ],
            "image/png": "[encoded data removed]"
          },
          "metadata": {}
        }
      ],
      "source": [
        "import matplotlib.pyplot as plt\n",
        "import seaborn as sns\n",
        "\n",
        "sns.histplot(mainDf[\"building_size\"], bins=10000)\n",
        "plt.xlim(0, 5000)\n",
        "plt.show()"
      ]
    },
    {
      "cell_type": "code",
      "execution_count": null,
      "metadata": {
        "id": "cwAk07cVXDow"
      },
      "outputs": [],
      "source": [
        "import matplotlib.pyplot as plt\n",
        "import seaborn as sns\n",
        "\n",
        "low, high = mainDf[\"building_size\"].quantile([0.01, 0.99])\n",
        "mainDf_filtered = mainDf[(mainDf[\"building_size\"] >= low) & (mainDf[\"building_size\"] <= high)]\n",
        "\n",
        "mainDf_filtered.describe()[\"building_size\"] #=> انحراف معیار بسیار بالا بود پس میایم بین صدک ۱ و ۳ میاریم\n",
        "\n",
        "# sns.histplot(mainDf_filtered[\"building_size\"], bins=10000)\n",
        "# plt.xlim(0, 5000)\n",
        "# plt.show()\n",
        "\n",
        "Q1 = mainDf_filtered[\"building_size\"].quantile(0.25)\n",
        "Q3 = mainDf_filtered[\"building_size\"].quantile(0.75)\n",
        "IQR = Q3 - Q1\n",
        "\n",
        "lower_bound = Q1 - 1.5 * IQR\n",
        "upper_bound = Q3 + 1.5 * IQR\n",
        "\n",
        "mainDf_filtered = mainDf_filtered[\n",
        "    (mainDf_filtered[\"building_size\"] >= lower_bound) &\n",
        "    (mainDf_filtered[\"building_size\"] <= upper_bound)\n",
        "]\n",
        "\n",
        "cleanedDf = mainDf_filtered.copy()\n",
        "cleanedDf = mainDf_filtered.drop_duplicates()"
      ]
    },
    {
      "cell_type": "code",
      "execution_count": null,
      "metadata": {
        "colab": {
          "base_uri": "https://localhost:8080/",
          "height": 335
        },
        "id": "-DNd51mviF3Q",
        "outputId": "3a29727c-196d-4139-b09e-6414e472f2d1"
      },
      "outputs": [
        {
          "output_type": "execute_result",
          "data": {
            "text/plain": [
              "count    854786.000000\n",
              "mean        108.595018\n",
              "min          12.000000\n",
              "25%          70.000000\n",
              "50%          99.000000\n",
              "75%         135.000000\n",
              "max         290.000000\n",
              "std          54.560541\n",
              "Name: building_size, dtype: float64"
            ],
            "text/html": [
              "<div>\n",
              "<style scoped>\n",
              "    .dataframe tbody tr th:only-of-type {\n",
              "        vertical-align: middle;\n",
              "    }\n",
              "\n",
              "    .dataframe tbody tr th {\n",
              "        vertical-align: top;\n",
              "    }\n",
              "\n",
              "    .dataframe thead th {\n",
              "        text-align: right;\n",
              "    }\n",
              "</style>\n",
              "<table border=\"1\" class=\"dataframe\">\n",
              "  <thead>\n",
              "    <tr style=\"text-align: right;\">\n",
              "      <th></th>\n",
              "      <th>building_size</th>\n",
              "    </tr>\n",
              "  </thead>\n",
              "  <tbody>\n",
              "    <tr>\n",
              "      <th>count</th>\n",
              "      <td>854786.000000</td>\n",
              "    </tr>\n",
              "    <tr>\n",
              "      <th>mean</th>\n",
              "      <td>108.595018</td>\n",
              "    </tr>\n",
              "    <tr>\n",
              "      <th>min</th>\n",
              "      <td>12.000000</td>\n",
              "    </tr>\n",
              "    <tr>\n",
              "      <th>25%</th>\n",
              "      <td>70.000000</td>\n",
              "    </tr>\n",
              "    <tr>\n",
              "      <th>50%</th>\n",
              "      <td>99.000000</td>\n",
              "    </tr>\n",
              "    <tr>\n",
              "      <th>75%</th>\n",
              "      <td>135.000000</td>\n",
              "    </tr>\n",
              "    <tr>\n",
              "      <th>max</th>\n",
              "      <td>290.000000</td>\n",
              "    </tr>\n",
              "    <tr>\n",
              "      <th>std</th>\n",
              "      <td>54.560541</td>\n",
              "    </tr>\n",
              "  </tbody>\n",
              "</table>\n",
              "</div><br><label><b>dtype:</b> float64</label>"
            ]
          },
          "metadata": {},
          "execution_count": 9
        }
      ],
      "source": [
        "cleanedDf.describe()[\"building_size\"]"
      ]
    },
    {
      "cell_type": "code",
      "execution_count": null,
      "metadata": {
        "id": "5XgYEXylNPjI"
      },
      "outputs": [],
      "source": [
        "# #---------------fill neighborhood_slug nulls for big_city == 0---------------\n",
        "# change_neighborhood = mainDf['neighborhood_slug'].isnull() & (mainDf['big_city'] == 0)\n",
        "# mainDf.loc[change_neighborhood, 'neighborhood_slug'] = mainDf.loc[change_neighborhood, 'city_slug']\n"
      ]
    },
    {
      "cell_type": "code",
      "execution_count": null,
      "metadata": {
        "id": "3BiP_bX3NTQu"
      },
      "outputs": [],
      "source": [
        "# mainDf[mainDf['big_city']==1]['neighborhood_slug'].value_counts()"
      ]
    },
    {
      "cell_type": "code",
      "execution_count": null,
      "metadata": {
        "id": "2trD75FofjFZ"
      },
      "outputs": [],
      "source": [
        "# @title Pre Proceesing\n",
        "# STEP 1-2 : Missing Values\n",
        "\n",
        "# در ادامه تصمیمات خودم برای داده های نال دیتاست رو تو کامنت ها مینویسم\n",
        "#------- Unnamed هنوز کاری بهش ندارم ولی چون نام نداره بنظرم کار خاصی باهاش نداریم میتونیم پاکش کنیم\n",
        "cleanedDf = cleanedDf.drop([\"Unnamed: 0\"] , axis=1)\n",
        "\n",
        "#------- cat3_slug (1 NAN) : Row Deletion\n",
        "cleanedDf = cleanedDf[~cleanedDf[\"cat3_slug\"].isna()]\n",
        "\n",
        "#------- city_slug (2 NAN) : Row Deletion\n",
        "cleanedDf = cleanedDf[~cleanedDf[\"city_slug\"].isna()]\n",
        "\n",
        "cleanedDf = pd.merge(\n",
        "    cleanedDf,\n",
        "    irCitiesDf,\n",
        "    left_on='city_slug',\n",
        "    right_on='city_name',\n",
        "    how='left'\n",
        ")"
      ]
    },
    {
      "cell_type": "code",
      "execution_count": null,
      "metadata": {
        "colab": {
          "base_uri": "https://localhost:8080/"
        },
        "id": "soKxCGHYiykY",
        "outputId": "c954253c-2751-4362-8869-b768612dab1c"
      },
      "outputs": [
        {
          "output_type": "execute_result",
          "data": {
            "text/plain": [
              "array(['apartment-sell', 'apartment-rent', 'office-rent', 'shop-sell',\n",
              "       'house-villa-sell', 'house-villa-rent', 'plot-old', 'shop-rent',\n",
              "       'office-sell', 'industry-agriculture-business-sell', 'villa',\n",
              "       'suite-apartment', 'industry-agriculture-business-rent',\n",
              "       'workspace', 'presell', 'partnership'], dtype=object)"
            ]
          },
          "metadata": {},
          "execution_count": 13
        }
      ],
      "source": [
        "cleanedDf[\"cat3_slug\"].unique()"
      ]
    },
    {
      "cell_type": "code",
      "execution_count": null,
      "metadata": {
        "colab": {
          "base_uri": "https://localhost:8080/",
          "height": 241
        },
        "id": "LHRV9nP7jskB",
        "outputId": "c4fb3f83-96ff-4c0d-f51a-831f1b60450e"
      },
      "outputs": [
        {
          "output_type": "execute_result",
          "data": {
            "text/plain": [
              "16                                       ویلای خوش نقشه\n",
              "19    ویلا باغ۶۰۰م سنددار شهرکی ٪زیر قیمت٪مشجر جاده ...\n",
              "20                 فروش خانه دو طبقه کمربندی غربی توحید\n",
              "28      ویلا دوبلکس باغی فول مبله جنگلی/سند فر.وش فو.ری\n",
              "35                             فروش مهندسی ساز شرف اباد\n",
              "Name: title, dtype: object"
            ],
            "text/html": [
              "<div>\n",
              "<style scoped>\n",
              "    .dataframe tbody tr th:only-of-type {\n",
              "        vertical-align: middle;\n",
              "    }\n",
              "\n",
              "    .dataframe tbody tr th {\n",
              "        vertical-align: top;\n",
              "    }\n",
              "\n",
              "    .dataframe thead th {\n",
              "        text-align: right;\n",
              "    }\n",
              "</style>\n",
              "<table border=\"1\" class=\"dataframe\">\n",
              "  <thead>\n",
              "    <tr style=\"text-align: right;\">\n",
              "      <th></th>\n",
              "      <th>title</th>\n",
              "    </tr>\n",
              "  </thead>\n",
              "  <tbody>\n",
              "    <tr>\n",
              "      <th>16</th>\n",
              "      <td>ویلای خوش نقشه</td>\n",
              "    </tr>\n",
              "    <tr>\n",
              "      <th>19</th>\n",
              "      <td>ویلا باغ۶۰۰م سنددار شهرکی ٪زیر قیمت٪مشجر جاده ...</td>\n",
              "    </tr>\n",
              "    <tr>\n",
              "      <th>20</th>\n",
              "      <td>فروش خانه دو طبقه کمربندی غربی توحید</td>\n",
              "    </tr>\n",
              "    <tr>\n",
              "      <th>28</th>\n",
              "      <td>ویلا دوبلکس باغی فول مبله جنگلی/سند فر.وش فو.ری</td>\n",
              "    </tr>\n",
              "    <tr>\n",
              "      <th>35</th>\n",
              "      <td>فروش مهندسی ساز شرف اباد</td>\n",
              "    </tr>\n",
              "  </tbody>\n",
              "</table>\n",
              "</div><br><label><b>dtype:</b> object</label>"
            ]
          },
          "metadata": {},
          "execution_count": 14
        }
      ],
      "source": [
        "cleanedDf[cleanedDf[\"cat3_slug\"] == \"house-villa-sell\"][\"title\"].head()"
      ]
    },
    {
      "cell_type": "code",
      "execution_count": null,
      "metadata": {
        "colab": {
          "base_uri": "https://localhost:8080/"
        },
        "id": "zeogyiRdvPlI",
        "outputId": "26a03588-2c50-4f9b-ffd8-5d3f1ec5b3c0"
      },
      "outputs": [
        {
          "output_type": "stream",
          "name": "stdout",
          "text": [
            "T-stat: 65.70626849610053, P-value: 0.0\n"
          ]
        }
      ],
      "source": [
        "from scipy.stats import ttest_ind\n",
        "\n",
        "residential_categories = [\n",
        "    \"apartment-sell\",\n",
        "    \"apartment-rent\",\n",
        "    # \"house-villa-sell\", مشکوک\n",
        "    # \"house-villa-rent\", مشکوک\n",
        "    \"suite-apartment\",\n",
        "    # \"presell\" یکسری جا ها پیش فروش برای زمینه\n",
        "]\n",
        "\n",
        "residentialDf = cleanedDf[cleanedDf[\"cat3_slug\"].isin(residential_categories)].copy()\n",
        "\n",
        "megacity = residentialDf[residentialDf[\"big_city\"] == 1][\"building_size\"]\n",
        "smalltown = residentialDf[residentialDf[\"big_city\"] == 0][\"building_size\"]\n",
        "\n",
        "t_stat, p_val = ttest_ind(megacity, smalltown, equal_var=False)\n",
        "print(f\"T-stat: {t_stat}, P-value: {p_val}\")\n"
      ]
    },
    {
      "cell_type": "markdown",
      "metadata": {
        "id": "zrJFwH5g_3c-"
      },
      "source": [
        "<h2>نتیجه سوال اول</h2>\n",
        "\n",
        "بر اساس جوابی که گرفتیم میتونیم استناد کنیم که بله\n",
        "با توجه به اینکه\n",
        "\n",
        "p-value\n",
        "\n",
        "کمتر از 0.05 میباشد\n",
        "\n",
        "> مساحت خانه هایی که در کلان شهر هستند از شهر و روستا کمتر میباشد\n",
        "\n",
        "و این نتیجه نشان دهنده اختلاف قابل توجه میانگین خانه ها  در کلان شهر و غیرکلانشهر میباشد\n"
      ]
    },
    {
      "cell_type": "markdown",
      "metadata": {
        "id": "sfIATFYJAh5X"
      },
      "source": [
        "<h2>سوال دوم</h2>\n",
        "\n",
        "\n",
        "معمولا این جمله را می‌شنویم که «قدیما خونه‌ها دلبازتر بود!» برای بررسی این فرضیه، آیا میانگین مساحت خانه‌های قدیمی‌ساخت نسبت به خانه‌های جدید ساخت بیشتر است؟( خانه‌های قدیمی‌ساخت را خانه‌هایی در نظر بگیرید که قبل از سال ۹۶ ساخته شده‌اند.)"
      ]
    },
    {
      "cell_type": "code",
      "execution_count": null,
      "metadata": {
        "colab": {
          "base_uri": "https://localhost:8080/"
        },
        "id": "tyY4vAtNEvDH",
        "outputId": "f2008154-825f-40f2-e365-c55b62b6da33"
      },
      "outputs": [
        {
          "output_type": "execute_result",
          "data": {
            "text/plain": [
              "array(['۱۳۸۴', '۱۴۰۱', '۱۴۰۰', '۱۴۰۳', '۱۳۸۹', '۱۳۹۵', '۱۳۹۳', '۱۳۹۶',\n",
              "       '۱۳۸۷', '۱۳۸۵', '۱۳۹۰', '۱۳۹۸', '۱۴۰۲', '۱۳۸۸', 'قبل از ۱۳۷۰',\n",
              "       '۱۳۹۲', '۱۳۸۳', '۱۳۹۴', '۱۳۹۱', '۱۳۸۰', nan, '۱۳۷۸', '۱۳۷۵',\n",
              "       '۱۳۹۹', '۱۳۸۲', '۱۳۹۷', '۱۳۸۶', '۱۳۷۹', '۱۳۷۲', '۱۳۷۴', '۱۳۷۶',\n",
              "       '۱۳۷۷', '۱۳۷۱', '۱۳۸۱', '۱۳۷۳'], dtype=object)"
            ]
          },
          "metadata": {},
          "execution_count": 16
        }
      ],
      "source": [
        "cleanedDf[\"construction_year\"].unique()"
      ]
    },
    {
      "cell_type": "code",
      "execution_count": null,
      "metadata": {
        "collapsed": true,
        "id": "hSA3_mn8Cf4O"
      },
      "outputs": [],
      "source": [
        "def numbers_persian_to_english(persian_number):\n",
        "    persian_numbers = '۰۱۲۳۴۵۶۷۸۹'\n",
        "    english_numbers = '0123456789'\n",
        "\n",
        "    transform = str.maketrans(persian_numbers, english_numbers)\n",
        "\n",
        "    return str(persian_number).translate(transform)"
      ]
    },
    {
      "cell_type": "code",
      "execution_count": null,
      "metadata": {
        "id": "0fXnsuJvBCmG"
      },
      "outputs": [],
      "source": [
        "cleanedDf['construction_year'] = cleanedDf['construction_year'].str.replace('قبل از ۱۳۷۰', '۱۳۶۹', regex=False)\n",
        "cleanedDf['construction_year'] = cleanedDf['construction_year'].apply(numbers_persian_to_english)\n",
        "\n",
        "cleanedDf = cleanedDf[cleanedDf['construction_year'].notna()]  # حذف NaN\n",
        "cleanedDf = cleanedDf[cleanedDf['construction_year'].str.isnumeric()]  # فقط مقادیر عددی\n",
        "\n",
        "cleanedDf['construction_year'] = cleanedDf['construction_year'].astype(int)\n",
        "cleanedDf['is_old'] = cleanedDf['construction_year'].apply(lambda x: 1 if x < 1396 else 0)\n"
      ]
    },
    {
      "cell_type": "code",
      "execution_count": null,
      "metadata": {
        "id": "U_exUJMosmzy",
        "colab": {
          "base_uri": "https://localhost:8080/"
        },
        "outputId": "7f6a1fe3-73e4-4596-d0c3-e392ee7aacb5"
      },
      "outputs": [
        {
          "output_type": "stream",
          "name": "stdout",
          "text": [
            "Old Houses Mean: 110.75866465036019\n",
            "New Houses Mean: 94.0418206364513\n",
            "T-stat: 150.9515113755225, P-value: 0.0\n"
          ]
        }
      ],
      "source": [
        "old_houses = cleanedDf[cleanedDf['is_old'] == 0]['building_size']\n",
        "new_houses = cleanedDf[cleanedDf['is_old'] == 1]['building_size']\n",
        "\n",
        "print(\"Old Houses Mean:\", old_houses.mean())\n",
        "print(\"New Houses Mean:\", new_houses.mean())\n",
        "\n",
        "from scipy.stats import ttest_ind\n",
        "t_stat, p_val = ttest_ind(old_houses, new_houses, equal_var=False)\n",
        "\n",
        "print(f\"T-stat: {t_stat}, P-value: {p_val}\")\n"
      ]
    },
    {
      "cell_type": "markdown",
      "metadata": {
        "id": "ABTq0eguE-p2"
      },
      "source": [
        "<h2>نتیجه سوال دوم</h2>\n",
        "\n",
        "با توجه به دیتاستی که داریم\n",
        "\n",
        "\n",
        "\n",
        "1.   110 داده از خانه های قدیمی\n",
        "2.   داده از خانه های جدید 94\n",
        "\n",
        "ما یک توزیع متعادل از لحاظ تعدادی بین خانه های جدید و قدیمی داریم"
      ]
    },
    {
      "cell_type": "markdown",
      "metadata": {
        "id": "ONm9zndqKXVJ"
      },
      "source": [
        "<h2>سوال سوم</h2>\n",
        "\n",
        "\n",
        "داشتن سند تجاری (یا هر نوع سند ملکی) در املاک به این معنی است که سند مالکیت معتبر، رسمی و قانونی برای ملک تجاری دارید. این سند نشان می‌دهد که شما صاحب قانونی ملک تجاری هستید و می‌توانید از حقوق مالکیت آن استفاده کنید. بررسی کنید که آیا داشتن سند تجاری(has_business_deed) بر میانگین قیمت فروش ملک تجاری تاثیر معناداری دارد؟"
      ]
    },
    {
      "cell_type": "code",
      "execution_count": null,
      "metadata": {
        "id": "9V9kdEAypuYi"
      },
      "outputs": [],
      "source": [
        "#---------------has business_deed---------------\n",
        "has_business_deed_true = cleanedDf['description'].str.contains(r'\\bسند تجاری\\b', regex=True, na=False) & (cleanedDf['has_business_deed'].isnull())\n",
        "cleanedDf.loc[has_business_deed_true, 'has_business_deed'] = True"
      ]
    },
    {
      "cell_type": "code",
      "source": [
        "# commercial_df.info()"
      ],
      "metadata": {
        "id": "8WXl7CRxT6G7"
      },
      "execution_count": null,
      "outputs": []
    },
    {
      "cell_type": "code",
      "execution_count": null,
      "metadata": {
        "id": "eAX2MX2mKmeP",
        "colab": {
          "base_uri": "https://localhost:8080/"
        },
        "outputId": "fb556ab4-e93f-47ef-9afd-f09e9054ecb9"
      },
      "outputs": [
        {
          "output_type": "stream",
          "name": "stdout",
          "text": [
            "With Deed Mean Price: 27772282593.82166\n",
            "Without Deed Mean Price: 24174463163.682148\n",
            "T-stat: 0.28939050311737824, P-value: 0.7722862129786656\n"
          ]
        }
      ],
      "source": [
        "from scipy.stats import ttest_ind\n",
        "\n",
        "commercial_types = ['shop-sell', 'office-sell', 'industry-agriculture-business-sell']\n",
        "commercial_df = cleanedDf[cleanedDf['cat3_slug'].isin(commercial_types)]\n",
        "commercial_df = commercial_df.dropna(subset=['price_value', 'has_business_deed'])\n",
        "\n",
        "with_deed = commercial_df[commercial_df['has_business_deed'] == 1]['price_value']\n",
        "without_deed = commercial_df[commercial_df['has_business_deed'] == 0]['price_value']\n",
        "\n",
        "print(\"With Deed Mean Price:\", with_deed.mean())\n",
        "print(\"Without Deed Mean Price:\", without_deed.mean())\n",
        "\n",
        "\n",
        "t_stat, p_val = ttest_ind(with_deed, without_deed, equal_var=False)\n",
        "print(f\"T-stat: {t_stat}, P-value: {p_val}\")"
      ]
    },
    {
      "cell_type": "markdown",
      "metadata": {
        "id": "yVJYi015LfOR"
      },
      "source": [
        "<h2>نتیجه سوال سوم</h2>\n",
        "\n",
        "نتیجه مقدار\n",
        "p-value\n",
        "زیاد تاثیری نداره"
      ]
    },
    {
      "cell_type": "markdown",
      "metadata": {
        "id": "_dVOoQnCLsr6"
      },
      "source": [
        "<h2>سوال چهارم</h2>\n",
        "\n",
        "در دسته‌بندی امکانات موجود در آگهی‌ها می‌توانیم آنها را به دو دسته‌ی امکانات لاکچری(استخر، باربیکیو، سونا، جکوزی) و امکانات غیر لاکچری تقسیم کنیم. فرضیه‌ی ما این است که میانگین مبلغ قیمت برای وجود ویژگی‌های لاکچری افزایش چشم‌گیری دارد. اما آیا این میانگین برای وجود امکانات غیرلاکچری نیز تفاوت معناداری دارد؟"
      ]
    },
    {
      "cell_type": "code",
      "source": [
        "df = cleanedDf.copy()\n",
        "\n",
        "df = df[df['price_value'].notna()]\n",
        "#---------------fill sauna_true---------------\n",
        "sauna_true = df['description'].str.contains(r'\\bسونا\\b', regex=True, na=False) & (df['has_sauna'].isnull())\n",
        "df.loc[sauna_true, 'has_sauna'] = True\n",
        "\n",
        "#---------------fill jacuzzi_true---------------\n",
        "jacuzzi_true = df['description'].str.contains(r'\\bجکوزی\\b', regex=True, na=False) & (df['has_jacuzzi'].isnull())\n",
        "df.loc[jacuzzi_true, 'has_jacuzzi'] = True\n",
        "\n",
        "#---------------fill pool_true---------------\n",
        "pool_true = df['description'].str.contains(r'\\bاستخر\\b', regex=True, na=False) & (df['has_pool'].isnull())\n",
        "df.loc[pool_true, 'has_pool'] = True\n",
        "\n",
        "#---------------fill barbecue_true---------------\n",
        "barbecue_true = df['description'].str.contains(r'\\bباربیکیو\\b', regex=True, na=False) & (df['has_barbecue'].isnull())\n",
        "df.loc[barbecue_true, 'has_barbecue'] = True\n",
        "\n",
        "#---------------fill security_guard_true---------------\n",
        "security_guard_true = ((df['description'].str.contains(r'\\bنگهبان\\b', regex=True, na=False)) | (df['description'].str.contains(r'\\bنگهبانی\\b', regex=True, na=False)) | (df['description'].str.contains(r'\\bلابی من\\b', regex=True, na=False))) & (df['has_security_guard'].isnull())\n",
        "df.loc[security_guard_true, 'has_security_guard'] = True\n",
        "\n",
        "def fill_null(df, columns_name, value):\n",
        "    for i in columns_name:\n",
        "        df[i].fillna(value, inplace = True)\n",
        "\n",
        "columns_False = ['has_sauna','has_jacuzzi','has_pool','has_barbecue',\n",
        "                 'has_security_guard','has_business_deed',\n",
        "                 'has_balcony','has_elevator','is_rebuilt',\n",
        "                 'has_parking','has_warehouse','has_gas',\n",
        "                 'has_electricity', 'has_water']\n",
        "fill_null(df, columns_False, False)\n",
        "\n",
        "df['luxury'] = df[['has_sauna', 'has_jacuzzi', 'has_pool', 'has_security_guard', 'has_barbecue']].sum(axis=1)\n"
      ],
      "metadata": {
        "colab": {
          "base_uri": "https://localhost:8080/"
        },
        "id": "aZfN1oY7VGLP",
        "outputId": "da971a77-1df8-4f7f-b8f4-434d01fc052d"
      },
      "execution_count": null,
      "outputs": [
        {
          "output_type": "stream",
          "name": "stderr",
          "text": [
            "<ipython-input-44-a40df5c31139>:26: FutureWarning: A value is trying to be set on a copy of a DataFrame or Series through chained assignment using an inplace method.\n",
            "The behavior will change in pandas 3.0. This inplace method will never work because the intermediate object on which we are setting values always behaves as a copy.\n",
            "\n",
            "For example, when doing 'df[col].method(value, inplace=True)', try using 'df.method({col: value}, inplace=True)' or df[col] = df[col].method(value) instead, to perform the operation inplace on the original object.\n",
            "\n",
            "\n",
            "  df[i].fillna(value, inplace = True)\n",
            "<ipython-input-44-a40df5c31139>:26: FutureWarning: Downcasting object dtype arrays on .fillna, .ffill, .bfill is deprecated and will change in a future version. Call result.infer_objects(copy=False) instead. To opt-in to the future behavior, set `pd.set_option('future.no_silent_downcasting', True)`\n",
            "  df[i].fillna(value, inplace = True)\n"
          ]
        }
      ]
    },
    {
      "cell_type": "code",
      "source": [
        "df.shape"
      ],
      "metadata": {
        "colab": {
          "base_uri": "https://localhost:8080/"
        },
        "id": "Nde8MTIaWLtM",
        "outputId": "de30f7a1-eb8c-4492-9d48-15c9f3680a63"
      },
      "execution_count": null,
      "outputs": [
        {
          "output_type": "execute_result",
          "data": {
            "text/plain": [
              "(426785, 65)"
            ]
          },
          "metadata": {},
          "execution_count": 47
        }
      ]
    },
    {
      "cell_type": "code",
      "execution_count": null,
      "metadata": {
        "id": "vfX5XeeYL6aD",
        "colab": {
          "base_uri": "https://localhost:8080/"
        },
        "outputId": "99583542-54dc-470b-8055-da1b17850160"
      },
      "outputs": [
        {
          "output_type": "stream",
          "name": "stdout",
          "text": [
            "With Luxury Mean Price: 14759986137.269218\n",
            "Without Luxury Mean Price: 13736755134.187271\n",
            "T-stat: 0.4148706653760336, P-value: 0.6782391714454936\n"
          ]
        }
      ],
      "source": [
        "from scipy.stats import ttest_ind\n",
        "\n",
        "\n",
        "with_luxury = df[df[\"luxury\"] == 1][\"price_value\"]\n",
        "without_luxury = df[df[\"luxury\"] == 0][\"price_value\"]\n",
        "\n",
        "t_stat, p_val = ttest_ind(with_luxury, without_luxury, equal_var=False)\n",
        "\n",
        "print(\"With Luxury Mean Price:\", with_luxury.mean())\n",
        "print(\"Without Luxury Mean Price:\", without_luxury.mean())\n",
        "print(f\"T-stat: {t_stat}, P-value: {p_val}\")"
      ]
    },
    {
      "cell_type": "markdown",
      "metadata": {
        "id": "5US7y5YyNVkr"
      },
      "source": [
        "<h2>نتیجه سوال چهارم</h2>\n",
        "\n",
        "این تفاوت از نظر آماری معنادار نیست.\n",
        "یعنی با اینکه قیمت خانه‌های دارای امکانات لاکچری به‌طور میانگین کمی بیشتره، اما این اختلاف احتمالاً تصادفیه و نمی‌تونیم بگیم به‌صورت معنادار قیمت‌ها بیشتر می‌شن.\n"
      ]
    }
  ],
  "metadata": {
    "colab": {
      "provenance": []
    },
    "kernelspec": {
      "display_name": "Python 3",
      "name": "python3"
    },
    "language_info": {
      "name": "python"
    }
  },
  "nbformat": 4,
  "nbformat_minor": 0
}
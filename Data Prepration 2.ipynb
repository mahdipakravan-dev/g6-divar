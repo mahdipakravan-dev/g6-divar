{
 "cells": [
  {
   "cell_type": "code",
   "execution_count": 1,
   "id": "aeaaad7d",
   "metadata": {},
   "outputs": [
    {
     "name": "stderr",
     "output_type": "stream",
     "text": [
      "D:\\AppData\\ipykernel_40808\\822924179.py:4: DtypeWarning: Columns (11,27,29,53) have mixed types. Specify dtype option on import or set low_memory=False.\n",
      "  divar_1 = pd.read_csv('Divar.csv')\n"
     ]
    }
   ],
   "source": [
    "import pandas as pd\n",
    "import category_encoders as ce\n",
    "\n",
    "divar_1 = pd.read_csv('Divar.csv')\n",
    "divar_2 = divar_1[sorted(divar_1.columns)]\n",
    "pd.set_option('display.max_rows', None)  # نمایش تمامی سطرها\n",
    "pd.set_option('display.max_columns', None)  # نمایش تمامی ستون‌ها\n",
    "pd.set_option('display.expand_frame_repr', False)  # جلوگیری از خلاصه شدن\n",
    "pd.set_option('max_colwidth', None)"
   ]
  },
  {
   "cell_type": "code",
   "execution_count": 2,
   "id": "09307c4f",
   "metadata": {},
   "outputs": [
    {
     "data": {
      "text/plain": [
       "(1000000, 61)"
      ]
     },
     "execution_count": 2,
     "metadata": {},
     "output_type": "execute_result"
    }
   ],
   "source": [
    "divar_2.shape"
   ]
  },
  {
   "cell_type": "code",
   "execution_count": 3,
   "id": "011020d3",
   "metadata": {},
   "outputs": [],
   "source": [
    "desired_columns = [\n",
    "    'building_direction',\n",
    "    'building_size',\n",
    "    'cat2_slug',\n",
    "    'cat3_slug',\n",
    "    'city_slug',\n",
    "    'construction_year',\n",
    "    'created_at_month',\n",
    "    'deed_type',\n",
    "    'has_balcony',\n",
    "    'has_elevator',\n",
    "    'has_barbecue',\n",
    "    'has_jacuzzi',\n",
    "    'has_parking',\n",
    "    'has_pool',\n",
    "    'has_sauna',\n",
    "    'has_security_guard',\n",
    "    'has_warehouse',\n",
    "    'is_rebuilt',\n",
    "    'land_size',\n",
    "    'neighborhood_slug',\n",
    "    'price_value',\n",
    "    'rooms_count'\n",
    "]"
   ]
  },
  {
   "cell_type": "code",
   "execution_count": 4,
   "id": "c947ce7f",
   "metadata": {},
   "outputs": [],
   "source": [
    "divar_3 = divar_2[desired_columns].copy()"
   ]
  },
  {
   "cell_type": "code",
   "execution_count": 5,
   "id": "b981da89",
   "metadata": {},
   "outputs": [
    {
     "data": {
      "text/plain": [
       "(1000000, 22)"
      ]
     },
     "execution_count": 5,
     "metadata": {},
     "output_type": "execute_result"
    }
   ],
   "source": [
    "divar_3.shape"
   ]
  },
  {
   "cell_type": "markdown",
   "id": "0d8ae065",
   "metadata": {},
   "source": [
    "آماده سازی ستون building_direction"
   ]
  },
  {
   "cell_type": "code",
   "execution_count": 6,
   "id": "f7b3b2c6",
   "metadata": {},
   "outputs": [
    {
     "data": {
      "text/plain": [
       "building_direction\n",
       "south       159453\n",
       "north       142009\n",
       "east         12111\n",
       "west          7143\n",
       "unselect      3207\n",
       "Name: count, dtype: int64"
      ]
     },
     "execution_count": 6,
     "metadata": {},
     "output_type": "execute_result"
    }
   ],
   "source": [
    "divar_3['building_direction'].value_counts()"
   ]
  },
  {
   "cell_type": "code",
   "execution_count": 7,
   "id": "9e58057e",
   "metadata": {},
   "outputs": [],
   "source": [
    "divar_3[\"building_direction_missing\"] = divar_3[\"building_direction\"].isnull().astype(int)"
   ]
  },
  {
   "cell_type": "code",
   "execution_count": 8,
   "id": "971d18b9",
   "metadata": {},
   "outputs": [],
   "source": [
    "divar_3['building_direction'] = divar_3['building_direction'].fillna('unknown')"
   ]
  },
  {
   "cell_type": "code",
   "execution_count": 9,
   "id": "1570d577",
   "metadata": {},
   "outputs": [],
   "source": [
    "from sklearn.preprocessing import OneHotEncoder\n",
    "\n",
    "encoder = OneHotEncoder(handle_unknown=\"ignore\", sparse_output=False)\n",
    "encoded_building_direction = encoder.fit_transform(divar_3[[\"building_direction\"]])\n",
    "encoded_buiding_direction_df = pd.DataFrame(encoded_building_direction, columns=encoder.get_feature_names_out([\"building_direction\"]))\n",
    "divar_4 = pd.concat([divar_3, encoded_buiding_direction_df], axis=1).drop(columns=[\"building_direction\"])\n",
    "\n"
   ]
  },
  {
   "cell_type": "markdown",
   "id": "a6105200",
   "metadata": {},
   "source": [
    "آماده سازی ستون building_size"
   ]
  },
  {
   "cell_type": "code",
   "execution_count": 10,
   "id": "d2d59b51",
   "metadata": {},
   "outputs": [
    {
     "name": "stderr",
     "output_type": "stream",
     "text": [
      "D:\\AppData\\ipykernel_40808\\3468348801.py:2: FutureWarning: A value is trying to be set on a copy of a DataFrame or Series through chained assignment using an inplace method.\n",
      "The behavior will change in pandas 3.0. This inplace method will never work because the intermediate object on which we are setting values always behaves as a copy.\n",
      "\n",
      "For example, when doing 'df[col].method(value, inplace=True)', try using 'df.method({col: value}, inplace=True)' or df[col] = df[col].method(value) instead, to perform the operation inplace on the original object.\n",
      "\n",
      "\n",
      "  divar_4['building_size'].fillna(median_building_size, inplace=True)\n"
     ]
    }
   ],
   "source": [
    "median_building_size = divar_4['building_size'].median()\n",
    "divar_4['building_size'].fillna(median_building_size, inplace=True)"
   ]
  },
  {
   "cell_type": "markdown",
   "id": "a7bdbbdc",
   "metadata": {},
   "source": [
    "آماده سازی ستون construction_year"
   ]
  },
  {
   "cell_type": "code",
   "execution_count": 11,
   "id": "c84d4962",
   "metadata": {},
   "outputs": [],
   "source": [
    "divar_4.loc[divar_4[\"construction_year\"] == \"قبل از ۱۳۷۰\", \"construction_year\"] = \"۱۳۷۰\"\n"
   ]
  },
  {
   "cell_type": "code",
   "execution_count": 12,
   "id": "8e7d970b",
   "metadata": {},
   "outputs": [],
   "source": [
    "divar_4['construction_year'] = divar_4['construction_year'].astype(str).str.translate(str.maketrans('۰۱۲۳۴۵۶۷۸۹', '0123456789'))\n"
   ]
  },
  {
   "cell_type": "code",
   "execution_count": 13,
   "id": "48f2e235",
   "metadata": {},
   "outputs": [],
   "source": [
    "divar_4['construction_year'] = pd.to_numeric(divar_4['construction_year'], errors='coerce')"
   ]
  },
  {
   "cell_type": "code",
   "execution_count": 14,
   "id": "ac87471f",
   "metadata": {},
   "outputs": [],
   "source": [
    "divar_4['construction_year_is_missing'] = divar_4['construction_year'].isnull().astype(int)"
   ]
  },
  {
   "cell_type": "code",
   "execution_count": 15,
   "id": "a15943b0",
   "metadata": {},
   "outputs": [],
   "source": [
    "# divar_4.drop(columns=['construction_year_is_missng'], axis=1, inplace=True)"
   ]
  },
  {
   "cell_type": "code",
   "execution_count": 16,
   "id": "0ca1fecf",
   "metadata": {},
   "outputs": [
    {
     "name": "stderr",
     "output_type": "stream",
     "text": [
      "D:\\AppData\\ipykernel_40808\\879027852.py:2: FutureWarning: A value is trying to be set on a copy of a DataFrame or Series through chained assignment using an inplace method.\n",
      "The behavior will change in pandas 3.0. This inplace method will never work because the intermediate object on which we are setting values always behaves as a copy.\n",
      "\n",
      "For example, when doing 'df[col].method(value, inplace=True)', try using 'df.method({col: value}, inplace=True)' or df[col] = df[col].method(value) instead, to perform the operation inplace on the original object.\n",
      "\n",
      "\n",
      "  divar_4['construction_year'].fillna(median_year, inplace=True)\n"
     ]
    }
   ],
   "source": [
    "median_year = divar_4['construction_year'].median()\n",
    "divar_4['construction_year'].fillna(median_year, inplace=True)"
   ]
  },
  {
   "cell_type": "code",
   "execution_count": 17,
   "id": "e6570240",
   "metadata": {},
   "outputs": [],
   "source": [
    "divar_5 = divar_4.copy()"
   ]
  },
  {
   "cell_type": "markdown",
   "id": "52fc21d9",
   "metadata": {},
   "source": [
    "<p dir=rtl>\n",
    "<font size=5 color=yellow>\n",
    "آماده سازی ستون created_at_month"
   ]
  },
  {
   "cell_type": "code",
   "execution_count": 18,
   "id": "cc5e0dea",
   "metadata": {},
   "outputs": [],
   "source": [
    "divar_5['created_at_month'] = divar_5['created_at_month'].str.replace(r'00:00:00', '', regex=True)"
   ]
  },
  {
   "cell_type": "code",
   "execution_count": 19,
   "id": "1c69c8d9",
   "metadata": {},
   "outputs": [],
   "source": [
    "divar_5.rename(columns={'created_at_month' : 'creation_date'}, inplace=True)"
   ]
  },
  {
   "cell_type": "code",
   "execution_count": 20,
   "id": "8859b798",
   "metadata": {},
   "outputs": [],
   "source": [
    "# divar_5 = pd.get_dummies(divar_5, columns=['city'])"
   ]
  },
  {
   "cell_type": "code",
   "execution_count": 21,
   "id": "cd60c0c7",
   "metadata": {},
   "outputs": [],
   "source": [
    "encoder_binary_month = ce.BinaryEncoder(cols=['creation_date'])\n",
    "divar_5 = encoder_binary_month.fit_transform(divar_5)\n",
    "# "
   ]
  },
  {
   "cell_type": "markdown",
   "id": "7bb3b69a",
   "metadata": {},
   "source": [
    "آماده سازی ستون deed_type"
   ]
  },
  {
   "cell_type": "code",
   "execution_count": 22,
   "id": "f82f689e",
   "metadata": {},
   "outputs": [],
   "source": [
    "divar_6 = divar_5.copy()"
   ]
  },
  {
   "cell_type": "code",
   "execution_count": 23,
   "id": "45390af9",
   "metadata": {},
   "outputs": [],
   "source": [
    "divar_6['deed_type_is_missing'] = divar_6['deed_type'].isnull().astype(int)"
   ]
  },
  {
   "cell_type": "code",
   "execution_count": 24,
   "id": "c2765864",
   "metadata": {},
   "outputs": [],
   "source": [
    "divar_6['deed_type'] = divar_6['deed_type'].fillna('unknown')"
   ]
  },
  {
   "cell_type": "code",
   "execution_count": 25,
   "id": "ba0b3d74",
   "metadata": {},
   "outputs": [],
   "source": [
    "encoder_6 = OneHotEncoder(handle_unknown=\"ignore\", sparse_output=False)\n",
    "encoded_deed_type = encoder_6.fit_transform(divar_6[[\"deed_type\"]])\n",
    "encoded_deed_type_df = pd.DataFrame(encoded_deed_type, columns=encoder_6.get_feature_names_out([\"deed_type\"]))\n",
    "divar_7 = pd.concat([divar_6, encoded_deed_type_df], axis=1).drop(columns=[\"deed_type\"])"
   ]
  },
  {
   "cell_type": "code",
   "execution_count": 26,
   "id": "9af44f32",
   "metadata": {},
   "outputs": [
    {
     "data": {
      "text/plain": [
       "has_balcony\n",
       "true        392096\n",
       "false        88855\n",
       "True         20692\n",
       "False         4545\n",
       "unselect       223\n",
       "Name: count, dtype: int64"
      ]
     },
     "execution_count": 26,
     "metadata": {},
     "output_type": "execute_result"
    }
   ],
   "source": [
    "divar_7['has_balcony'].value_counts()"
   ]
  },
  {
   "cell_type": "code",
   "execution_count": 27,
   "id": "87939d6f",
   "metadata": {},
   "outputs": [
    {
     "name": "stderr",
     "output_type": "stream",
     "text": [
      "D:\\AppData\\ipykernel_40808\\951201462.py:2: FutureWarning: A value is trying to be set on a copy of a DataFrame or Series through chained assignment using an inplace method.\n",
      "The behavior will change in pandas 3.0. This inplace method will never work because the intermediate object on which we are setting values always behaves as a copy.\n",
      "\n",
      "For example, when doing 'df[col].method(value, inplace=True)', try using 'df.method({col: value}, inplace=True)' or df[col] = df[col].method(value) instead, to perform the operation inplace on the original object.\n",
      "\n",
      "\n",
      "  divar_7_5['has_balcony'].replace('unselect', pd.NA , inplace=True)\n",
      "D:\\AppData\\ipykernel_40808\\951201462.py:3: FutureWarning: A value is trying to be set on a copy of a DataFrame or Series through chained assignment using an inplace method.\n",
      "The behavior will change in pandas 3.0. This inplace method will never work because the intermediate object on which we are setting values always behaves as a copy.\n",
      "\n",
      "For example, when doing 'df[col].method(value, inplace=True)', try using 'df.method({col: value}, inplace=True)' or df[col] = df[col].method(value) instead, to perform the operation inplace on the original object.\n",
      "\n",
      "\n",
      "  divar_7_5['has_balcony'].replace(False, 'false' , inplace=True)\n",
      "D:\\AppData\\ipykernel_40808\\951201462.py:4: FutureWarning: A value is trying to be set on a copy of a DataFrame or Series through chained assignment using an inplace method.\n",
      "The behavior will change in pandas 3.0. This inplace method will never work because the intermediate object on which we are setting values always behaves as a copy.\n",
      "\n",
      "For example, when doing 'df[col].method(value, inplace=True)', try using 'df.method({col: value}, inplace=True)' or df[col] = df[col].method(value) instead, to perform the operation inplace on the original object.\n",
      "\n",
      "\n",
      "  divar_7_5['has_balcony'].replace(True , 'true' , inplace=True)\n"
     ]
    }
   ],
   "source": [
    "divar_7_5 = divar_7.copy()\n",
    "divar_7_5['has_balcony'].replace('unselect', pd.NA , inplace=True)\n",
    "divar_7_5['has_balcony'].replace(False, 'false' , inplace=True)\n",
    "divar_7_5['has_balcony'].replace(True , 'true' , inplace=True)"
   ]
  },
  {
   "cell_type": "code",
   "execution_count": 28,
   "id": "76324768",
   "metadata": {},
   "outputs": [
    {
     "data": {
      "text/plain": [
       "has_balcony\n",
       "true     412788\n",
       "false     93400\n",
       "Name: count, dtype: int64"
      ]
     },
     "execution_count": 28,
     "metadata": {},
     "output_type": "execute_result"
    }
   ],
   "source": [
    "divar_7_5['has_balcony'].value_counts()"
   ]
  },
  {
   "cell_type": "code",
   "execution_count": 29,
   "id": "e8f58c1e",
   "metadata": {},
   "outputs": [],
   "source": [
    "divar_7_5['has_balcony_is_missing'] = divar_7_5['has_balcony'].isnull().astype(int)"
   ]
  },
  {
   "cell_type": "code",
   "execution_count": 30,
   "id": "74d30f7b",
   "metadata": {},
   "outputs": [],
   "source": [
    "divar_7_5['has_balcony'] = divar_7_5['has_balcony'].fillna('unselect')"
   ]
  },
  {
   "cell_type": "code",
   "execution_count": 31,
   "id": "78564e1d",
   "metadata": {},
   "outputs": [],
   "source": [
    "encoder_7 = OneHotEncoder(handle_unknown=\"ignore\", sparse_output=False)\n",
    "encoded_has_balcony = encoder_7.fit_transform(divar_7_5[[\"has_balcony\"]])\n",
    "encoded_has_balcony_df = pd.DataFrame(encoded_has_balcony, columns=encoder_7.get_feature_names_out(['has_balcony']))\n",
    "divar_7_5 = pd.concat([divar_7_5, encoded_has_balcony_df], axis=1).drop(columns=['has_balcony'])\n",
    "\n"
   ]
  },
  {
   "cell_type": "markdown",
   "id": "f23bf8ab",
   "metadata": {},
   "source": [
    "<p dir=rtl>\n",
    "<font size=5 color=yellow>\n",
    "آماده سازی ستون luxury_features که از ادغام ستون های has_security_guard و has_pool و has_sauna و has_barbecue و has_jacuzzi ایجاد شده است."
   ]
  },
  {
   "cell_type": "code",
   "execution_count": 32,
   "id": "56ecd74d",
   "metadata": {},
   "outputs": [
    {
     "data": {
      "text/plain": [
       "(has_pool\n",
       " False    25669\n",
       " True      3721\n",
       " Name: count, dtype: int64,\n",
       " has_security_guard\n",
       " False    24631\n",
       " True      6681\n",
       " Name: count, dtype: int64,\n",
       " has_sauna\n",
       " False    27084\n",
       " True      1395\n",
       " Name: count, dtype: int64,\n",
       " has_jacuzzi\n",
       " False    26455\n",
       " True      2273\n",
       " Name: count, dtype: int64,\n",
       " has_barbecue\n",
       " False    23377\n",
       " True      7821\n",
       " Name: count, dtype: int64)"
      ]
     },
     "execution_count": 32,
     "metadata": {},
     "output_type": "execute_result"
    }
   ],
   "source": [
    "divar_7_5['has_pool'].value_counts(), divar_7_5['has_security_guard'].value_counts(), divar_7_5['has_sauna'].value_counts(), divar_7_5['has_jacuzzi'].value_counts(), divar_7_5['has_barbecue'].value_counts()"
   ]
  },
  {
   "cell_type": "code",
   "execution_count": 33,
   "id": "4a5df62f",
   "metadata": {},
   "outputs": [],
   "source": [
    "divar_8 = divar_7_5.copy()"
   ]
  },
  {
   "cell_type": "code",
   "execution_count": 34,
   "id": "1dc343dd",
   "metadata": {},
   "outputs": [],
   "source": [
    "luxury_cols = [\"has_barbecue\", \"has_jacuzzi\", \"has_pool\", \"has_sauna\", \"has_security_guard\"]\n",
    "divar_8[luxury_cols] = divar_8[luxury_cols].replace({True: \"1\", False: \"0\"})"
   ]
  },
  {
   "cell_type": "code",
   "execution_count": 35,
   "id": "c9eba396",
   "metadata": {},
   "outputs": [],
   "source": [
    "divar_8[luxury_cols] = divar_8[luxury_cols].fillna('0')\n",
    "divar_8[luxury_cols] = divar_8[luxury_cols].astype(int)\n",
    "## luxury_features : luxury_features_counts\n",
    "divar_8['luxury_features'] = divar_8[luxury_cols].sum(axis=1)\n"
   ]
  },
  {
   "cell_type": "code",
   "execution_count": 36,
   "id": "d049f1c6",
   "metadata": {},
   "outputs": [],
   "source": [
    "divar_8_1 = divar_8.drop(columns=['has_pool','has_jacuzzi','has_sauna','has_barbecue','has_security_guard'], axis=1)"
   ]
  },
  {
   "cell_type": "markdown",
   "id": "ad87380d",
   "metadata": {},
   "source": [
    "<p dir=rtl>\n",
    "<font size=5 color = yellow>\n",
    "آماده سازی ستون has_elevator"
   ]
  },
  {
   "cell_type": "code",
   "execution_count": 37,
   "id": "b73bdf16",
   "metadata": {},
   "outputs": [],
   "source": [
    "divar_9 = divar_8_1.copy()"
   ]
  },
  {
   "cell_type": "code",
   "execution_count": 38,
   "id": "a475576b",
   "metadata": {},
   "outputs": [
    {
     "name": "stderr",
     "output_type": "stream",
     "text": [
      "D:\\AppData\\ipykernel_40808\\3625838816.py:1: FutureWarning: A value is trying to be set on a copy of a DataFrame or Series through chained assignment using an inplace method.\n",
      "The behavior will change in pandas 3.0. This inplace method will never work because the intermediate object on which we are setting values always behaves as a copy.\n",
      "\n",
      "For example, when doing 'df[col].method(value, inplace=True)', try using 'df.method({col: value}, inplace=True)' or df[col] = df[col].method(value) instead, to perform the operation inplace on the original object.\n",
      "\n",
      "\n",
      "  divar_9['has_elevator'].replace(False, 'false' , inplace=True)\n",
      "D:\\AppData\\ipykernel_40808\\3625838816.py:2: FutureWarning: A value is trying to be set on a copy of a DataFrame or Series through chained assignment using an inplace method.\n",
      "The behavior will change in pandas 3.0. This inplace method will never work because the intermediate object on which we are setting values always behaves as a copy.\n",
      "\n",
      "For example, when doing 'df[col].method(value, inplace=True)', try using 'df.method({col: value}, inplace=True)' or df[col] = df[col].method(value) instead, to perform the operation inplace on the original object.\n",
      "\n",
      "\n",
      "  divar_9['has_elevator'].replace(True , 'true' , inplace=True)\n"
     ]
    }
   ],
   "source": [
    "divar_9['has_elevator'].replace(False, 'false' , inplace=True)\n",
    "divar_9['has_elevator'].replace(True , 'true' , inplace=True)"
   ]
  },
  {
   "cell_type": "code",
   "execution_count": 39,
   "id": "24efdcb6",
   "metadata": {},
   "outputs": [],
   "source": [
    "divar_9['has_elevator'] = divar_9['has_elevator'].fillna('unselect')"
   ]
  },
  {
   "cell_type": "code",
   "execution_count": 40,
   "id": "39ae8826",
   "metadata": {},
   "outputs": [],
   "source": [
    "encoder_9 = OneHotEncoder(handle_unknown=\"ignore\", sparse_output=False)\n",
    "encoded_has_elevator = encoder_9.fit_transform(divar_9[[\"has_elevator\"]])\n",
    "encoded_has_elevator_df = pd.DataFrame(encoded_has_elevator, columns=encoder_9.get_feature_names_out(['has_elevator']))\n",
    "divar_9 = pd.concat([divar_9, encoded_has_elevator_df], axis=1).drop(columns=['has_elevator'])\n",
    "\n"
   ]
  },
  {
   "cell_type": "markdown",
   "id": "1b5a6598",
   "metadata": {},
   "source": [
    "<p dir=rtl>\n",
    "<font size=5 color = yellow>\n",
    "آماده سازی ستون has_parking"
   ]
  },
  {
   "cell_type": "code",
   "execution_count": 41,
   "id": "63d05a1e",
   "metadata": {},
   "outputs": [],
   "source": [
    "divar_10 = divar_9.copy()"
   ]
  },
  {
   "cell_type": "code",
   "execution_count": 42,
   "id": "b70f20e2",
   "metadata": {},
   "outputs": [
    {
     "name": "stderr",
     "output_type": "stream",
     "text": [
      "D:\\AppData\\ipykernel_40808\\4274835166.py:1: FutureWarning: A value is trying to be set on a copy of a DataFrame or Series through chained assignment using an inplace method.\n",
      "The behavior will change in pandas 3.0. This inplace method will never work because the intermediate object on which we are setting values always behaves as a copy.\n",
      "\n",
      "For example, when doing 'df[col].method(value, inplace=True)', try using 'df.method({col: value}, inplace=True)' or df[col] = df[col].method(value) instead, to perform the operation inplace on the original object.\n",
      "\n",
      "\n",
      "  divar_10['has_parking'].replace(False, 'false' , inplace=True)\n",
      "D:\\AppData\\ipykernel_40808\\4274835166.py:2: FutureWarning: A value is trying to be set on a copy of a DataFrame or Series through chained assignment using an inplace method.\n",
      "The behavior will change in pandas 3.0. This inplace method will never work because the intermediate object on which we are setting values always behaves as a copy.\n",
      "\n",
      "For example, when doing 'df[col].method(value, inplace=True)', try using 'df.method({col: value}, inplace=True)' or df[col] = df[col].method(value) instead, to perform the operation inplace on the original object.\n",
      "\n",
      "\n",
      "  divar_10['has_parking'].replace(True , 'true' , inplace=True)\n"
     ]
    }
   ],
   "source": [
    "divar_10['has_parking'].replace(False, 'false' , inplace=True)\n",
    "divar_10['has_parking'].replace(True , 'true' , inplace=True)"
   ]
  },
  {
   "cell_type": "code",
   "execution_count": 43,
   "id": "f0d89829",
   "metadata": {},
   "outputs": [],
   "source": [
    "divar_10['has_parking'] = divar_10['has_parking'].fillna('unselect')"
   ]
  },
  {
   "cell_type": "code",
   "execution_count": 44,
   "id": "9ae24cee",
   "metadata": {},
   "outputs": [],
   "source": [
    "encoder_10 = OneHotEncoder(handle_unknown=\"ignore\", sparse_output=False)\n",
    "encoded_has_parking = encoder_10.fit_transform(divar_10[[\"has_parking\"]])\n",
    "encoded_has_parking_df = pd.DataFrame(encoded_has_parking, columns=encoder_10.get_feature_names_out(['has_parking']))\n",
    "divar_10 = pd.concat([divar_10, encoded_has_parking_df], axis=1).drop(columns=['has_parking'])\n",
    "\n"
   ]
  },
  {
   "cell_type": "markdown",
   "id": "0497ff26",
   "metadata": {},
   "source": [
    "<p dir=rtl>\n",
    "<font size=5 color = yellow>\n",
    "آماده سازی ستون has_warehouse"
   ]
  },
  {
   "cell_type": "code",
   "execution_count": 45,
   "id": "b7bc81c4",
   "metadata": {},
   "outputs": [],
   "source": [
    "divar_11 = divar_10.copy()"
   ]
  },
  {
   "cell_type": "code",
   "execution_count": 46,
   "id": "766811fe",
   "metadata": {},
   "outputs": [
    {
     "name": "stderr",
     "output_type": "stream",
     "text": [
      "D:\\AppData\\ipykernel_40808\\257579060.py:1: FutureWarning: A value is trying to be set on a copy of a DataFrame or Series through chained assignment using an inplace method.\n",
      "The behavior will change in pandas 3.0. This inplace method will never work because the intermediate object on which we are setting values always behaves as a copy.\n",
      "\n",
      "For example, when doing 'df[col].method(value, inplace=True)', try using 'df.method({col: value}, inplace=True)' or df[col] = df[col].method(value) instead, to perform the operation inplace on the original object.\n",
      "\n",
      "\n",
      "  divar_11['has_warehouse'].replace(False, 'false' , inplace=True)\n",
      "D:\\AppData\\ipykernel_40808\\257579060.py:2: FutureWarning: A value is trying to be set on a copy of a DataFrame or Series through chained assignment using an inplace method.\n",
      "The behavior will change in pandas 3.0. This inplace method will never work because the intermediate object on which we are setting values always behaves as a copy.\n",
      "\n",
      "For example, when doing 'df[col].method(value, inplace=True)', try using 'df.method({col: value}, inplace=True)' or df[col] = df[col].method(value) instead, to perform the operation inplace on the original object.\n",
      "\n",
      "\n",
      "  divar_11['has_warehouse'].replace(True , 'true' , inplace=True)\n"
     ]
    }
   ],
   "source": [
    "divar_11['has_warehouse'].replace(False, 'false' , inplace=True)\n",
    "divar_11['has_warehouse'].replace(True , 'true' , inplace=True)"
   ]
  },
  {
   "cell_type": "code",
   "execution_count": 47,
   "id": "94ee3b7e",
   "metadata": {},
   "outputs": [],
   "source": [
    "divar_11['has_warehouse'] = divar_11['has_warehouse'].fillna('unselect')"
   ]
  },
  {
   "cell_type": "code",
   "execution_count": 48,
   "id": "135e0b38",
   "metadata": {},
   "outputs": [],
   "source": [
    "encoder_11 = OneHotEncoder(handle_unknown=\"ignore\", sparse_output=False)\n",
    "encoded_has_warehouse = encoder_11.fit_transform(divar_11[[\"has_warehouse\"]])\n",
    "encoded_has_warehouse_df = pd.DataFrame(encoded_has_warehouse, columns=encoder_11.get_feature_names_out(['has_warehouse']))\n",
    "divar_11 = pd.concat([divar_11, encoded_has_warehouse_df], axis=1).drop(columns=['has_warehouse'])\n"
   ]
  },
  {
   "cell_type": "markdown",
   "id": "0bed1a87",
   "metadata": {},
   "source": [
    "<p dir=rtl>\n",
    "<font size=5 color=yellow>\n",
    "آماده سازی ستون is_rebuilt"
   ]
  },
  {
   "cell_type": "code",
   "execution_count": 49,
   "id": "47d8cf73",
   "metadata": {},
   "outputs": [],
   "source": [
    "divar_12 = divar_11.copy()"
   ]
  },
  {
   "cell_type": "code",
   "execution_count": 50,
   "id": "96df91a3",
   "metadata": {},
   "outputs": [
    {
     "name": "stderr",
     "output_type": "stream",
     "text": [
      "D:\\AppData\\ipykernel_40808\\2060642059.py:1: FutureWarning: A value is trying to be set on a copy of a DataFrame or Series through chained assignment using an inplace method.\n",
      "The behavior will change in pandas 3.0. This inplace method will never work because the intermediate object on which we are setting values always behaves as a copy.\n",
      "\n",
      "For example, when doing 'df[col].method(value, inplace=True)', try using 'df.method({col: value}, inplace=True)' or df[col] = df[col].method(value) instead, to perform the operation inplace on the original object.\n",
      "\n",
      "\n",
      "  divar_12['is_rebuilt'].replace(False, 'false' , inplace=True)\n",
      "D:\\AppData\\ipykernel_40808\\2060642059.py:2: FutureWarning: A value is trying to be set on a copy of a DataFrame or Series through chained assignment using an inplace method.\n",
      "The behavior will change in pandas 3.0. This inplace method will never work because the intermediate object on which we are setting values always behaves as a copy.\n",
      "\n",
      "For example, when doing 'df[col].method(value, inplace=True)', try using 'df.method({col: value}, inplace=True)' or df[col] = df[col].method(value) instead, to perform the operation inplace on the original object.\n",
      "\n",
      "\n",
      "  divar_12['is_rebuilt'].replace(True , 'true' , inplace=True)\n"
     ]
    }
   ],
   "source": [
    "divar_12['is_rebuilt'].replace(False, 'false' , inplace=True)\n",
    "divar_12['is_rebuilt'].replace(True , 'true' , inplace=True)"
   ]
  },
  {
   "cell_type": "code",
   "execution_count": 51,
   "id": "98bc5b47",
   "metadata": {},
   "outputs": [],
   "source": [
    "divar_12['is_rebuilt'] = divar_12['is_rebuilt'].fillna('unselect')"
   ]
  },
  {
   "cell_type": "code",
   "execution_count": 52,
   "id": "0a16a8e1",
   "metadata": {},
   "outputs": [],
   "source": [
    "encoder_12 = OneHotEncoder(handle_unknown=\"ignore\", sparse_output=False)\n",
    "encoded_is_rebuilt = encoder_12.fit_transform(divar_12[['is_rebuilt']])\n",
    "encoded_is_rebuilt_df = pd.DataFrame(encoded_is_rebuilt, columns=encoder_12.get_feature_names_out(['is_rebuilt']))\n",
    "divar_12 = pd.concat([divar_12, encoded_is_rebuilt_df], axis=1).drop(columns=['is_rebuilt'])\n"
   ]
  },
  {
   "cell_type": "markdown",
   "id": "e1a4826e",
   "metadata": {},
   "source": [
    "<p dir=rtl>\n",
    "<font size=5 color = yellow>\n",
    "آماده سازی ستون rooms_count"
   ]
  },
  {
   "cell_type": "code",
   "execution_count": 53,
   "id": "57a9f28c",
   "metadata": {},
   "outputs": [],
   "source": [
    "divar_13 = divar_12.copy()"
   ]
  },
  {
   "cell_type": "code",
   "execution_count": 54,
   "id": "c12dc62c",
   "metadata": {},
   "outputs": [
    {
     "data": {
      "text/plain": [
       "rooms_count\n",
       "دو              404050\n",
       "یک              192083\n",
       "سه              138633\n",
       "بدون اتاق        75898\n",
       "چهار             21371\n",
       "پنج یا بیشتر     13864\n",
       "Name: count, dtype: int64"
      ]
     },
     "execution_count": 54,
     "metadata": {},
     "output_type": "execute_result"
    }
   ],
   "source": [
    "divar_13['rooms_count'].value_counts()"
   ]
  },
  {
   "cell_type": "code",
   "execution_count": 55,
   "id": "0e8f1c83",
   "metadata": {},
   "outputs": [
    {
     "name": "stderr",
     "output_type": "stream",
     "text": [
      "D:\\AppData\\ipykernel_40808\\1911240802.py:1: FutureWarning: A value is trying to be set on a copy of a DataFrame or Series through chained assignment using an inplace method.\n",
      "The behavior will change in pandas 3.0. This inplace method will never work because the intermediate object on which we are setting values always behaves as a copy.\n",
      "\n",
      "For example, when doing 'df[col].method(value, inplace=True)', try using 'df.method({col: value}, inplace=True)' or df[col] = df[col].method(value) instead, to perform the operation inplace on the original object.\n",
      "\n",
      "\n",
      "  divar_13['rooms_count'].replace('بدون اتاق', '0',  inplace=True)\n",
      "D:\\AppData\\ipykernel_40808\\1911240802.py:2: FutureWarning: A value is trying to be set on a copy of a DataFrame or Series through chained assignment using an inplace method.\n",
      "The behavior will change in pandas 3.0. This inplace method will never work because the intermediate object on which we are setting values always behaves as a copy.\n",
      "\n",
      "For example, when doing 'df[col].method(value, inplace=True)', try using 'df.method({col: value}, inplace=True)' or df[col] = df[col].method(value) instead, to perform the operation inplace on the original object.\n",
      "\n",
      "\n",
      "  divar_13['rooms_count'].replace('یک','1',  inplace=True)\n",
      "D:\\AppData\\ipykernel_40808\\1911240802.py:3: FutureWarning: A value is trying to be set on a copy of a DataFrame or Series through chained assignment using an inplace method.\n",
      "The behavior will change in pandas 3.0. This inplace method will never work because the intermediate object on which we are setting values always behaves as a copy.\n",
      "\n",
      "For example, when doing 'df[col].method(value, inplace=True)', try using 'df.method({col: value}, inplace=True)' or df[col] = df[col].method(value) instead, to perform the operation inplace on the original object.\n",
      "\n",
      "\n",
      "  divar_13['rooms_count'].replace('دو','2',  inplace=True)\n",
      "D:\\AppData\\ipykernel_40808\\1911240802.py:4: FutureWarning: A value is trying to be set on a copy of a DataFrame or Series through chained assignment using an inplace method.\n",
      "The behavior will change in pandas 3.0. This inplace method will never work because the intermediate object on which we are setting values always behaves as a copy.\n",
      "\n",
      "For example, when doing 'df[col].method(value, inplace=True)', try using 'df.method({col: value}, inplace=True)' or df[col] = df[col].method(value) instead, to perform the operation inplace on the original object.\n",
      "\n",
      "\n",
      "  divar_13['rooms_count'].replace('سه','3',  inplace=True)\n",
      "D:\\AppData\\ipykernel_40808\\1911240802.py:5: FutureWarning: A value is trying to be set on a copy of a DataFrame or Series through chained assignment using an inplace method.\n",
      "The behavior will change in pandas 3.0. This inplace method will never work because the intermediate object on which we are setting values always behaves as a copy.\n",
      "\n",
      "For example, when doing 'df[col].method(value, inplace=True)', try using 'df.method({col: value}, inplace=True)' or df[col] = df[col].method(value) instead, to perform the operation inplace on the original object.\n",
      "\n",
      "\n",
      "  divar_13['rooms_count'].replace('چهار', '4',  inplace=True)\n",
      "D:\\AppData\\ipykernel_40808\\1911240802.py:6: FutureWarning: A value is trying to be set on a copy of a DataFrame or Series through chained assignment using an inplace method.\n",
      "The behavior will change in pandas 3.0. This inplace method will never work because the intermediate object on which we are setting values always behaves as a copy.\n",
      "\n",
      "For example, when doing 'df[col].method(value, inplace=True)', try using 'df.method({col: value}, inplace=True)' or df[col] = df[col].method(value) instead, to perform the operation inplace on the original object.\n",
      "\n",
      "\n",
      "  divar_13['rooms_count'].replace('پنج یا بیشتر', '5 or more',  inplace=True)\n"
     ]
    }
   ],
   "source": [
    "divar_13['rooms_count'].replace('بدون اتاق', '0',  inplace=True)\n",
    "divar_13['rooms_count'].replace('یک','1',  inplace=True)\n",
    "divar_13['rooms_count'].replace('دو','2',  inplace=True)\n",
    "divar_13['rooms_count'].replace('سه','3',  inplace=True)\n",
    "divar_13['rooms_count'].replace('چهار', '4',  inplace=True)\n",
    "divar_13['rooms_count'].replace('پنج یا بیشتر', '5 or more',  inplace=True)"
   ]
  },
  {
   "cell_type": "code",
   "execution_count": 56,
   "id": "1afb7cf6",
   "metadata": {},
   "outputs": [],
   "source": [
    "divar_13['rooms_count'] = divar_13['rooms_count'].fillna('unselect')"
   ]
  },
  {
   "cell_type": "code",
   "execution_count": 57,
   "id": "a038bd72",
   "metadata": {},
   "outputs": [],
   "source": [
    "encoder_13 = OneHotEncoder(handle_unknown=\"ignore\", sparse_output=False)\n",
    "encoded_rooms_count = encoder_13.fit_transform(divar_13[['rooms_count']])\n",
    "encoded_rooms_count_df = pd.DataFrame(encoded_rooms_count, columns=encoder_13.get_feature_names_out(['rooms_count']))\n",
    "divar_13 = pd.concat([divar_13, encoded_rooms_count_df], axis=1).drop(columns=['rooms_count'])\n"
   ]
  },
  {
   "cell_type": "markdown",
   "id": "be54965b",
   "metadata": {},
   "source": [
    "<p dir=rtl>\n",
    "<font size=5 color=yellow>\n",
    "آماده سازی ستون neighborhood_slug \n",
    "<br>\n",
    "تغییر اسم ستون به neighborhood"
   ]
  },
  {
   "cell_type": "code",
   "execution_count": 58,
   "id": "4d0d5823",
   "metadata": {},
   "outputs": [],
   "source": [
    "divar_14 = divar_13.copy()"
   ]
  },
  {
   "cell_type": "code",
   "execution_count": 59,
   "id": "5db282dc",
   "metadata": {},
   "outputs": [],
   "source": [
    "divar_14.loc[divar_14['neighborhood_slug'].isna(), 'neighborhood_slug'] = divar_14['city_slug']"
   ]
  },
  {
   "cell_type": "code",
   "execution_count": 60,
   "id": "aad50e66",
   "metadata": {},
   "outputs": [],
   "source": [
    "divar_14.rename(columns={'neighborhood_slug' : 'neighborhood'}, inplace=True)"
   ]
  },
  {
   "cell_type": "markdown",
   "id": "b2a05095",
   "metadata": {},
   "source": [
    "<p dir=rtl>\n",
    "<font size=5 color=yellow>\n",
    "تغییر اسم ستون city_slug به city"
   ]
  },
  {
   "cell_type": "code",
   "execution_count": 61,
   "id": "4cb643d0",
   "metadata": {},
   "outputs": [],
   "source": [
    "divar_14.rename(columns={'city_slug' : 'city'}, inplace=True)"
   ]
  },
  {
   "cell_type": "markdown",
   "id": "b0e0e522",
   "metadata": {},
   "source": [
    "<p dir=rtl>\n",
    "<font size=5 color=yellow>\n",
    "آماده سازی ستون land_size"
   ]
  },
  {
   "cell_type": "code",
   "execution_count": 62,
   "id": "a69da4b3",
   "metadata": {},
   "outputs": [
    {
     "name": "stdout",
     "output_type": "stream",
     "text": [
      "<class 'pandas.core.series.Series'>\n",
      "RangeIndex: 1000000 entries, 0 to 999999\n",
      "Series name: land_size\n",
      "Non-Null Count   Dtype  \n",
      "--------------   -----  \n",
      "186396 non-null  float64\n",
      "dtypes: float64(1)\n",
      "memory usage: 7.6 MB\n"
     ]
    }
   ],
   "source": [
    "divar_14['land_size'].info()"
   ]
  },
  {
   "cell_type": "code",
   "execution_count": 63,
   "id": "17c8edac",
   "metadata": {},
   "outputs": [],
   "source": [
    "divar_14['land_size_is_missing'] = divar_14['land_size'].isnull().astype(int)"
   ]
  },
  {
   "cell_type": "code",
   "execution_count": 64,
   "id": "9fff1c2f",
   "metadata": {},
   "outputs": [],
   "source": [
    "divar_15 = divar_14.copy()"
   ]
  },
  {
   "cell_type": "code",
   "execution_count": 65,
   "id": "23685d0f",
   "metadata": {},
   "outputs": [],
   "source": [
    "median_land_size = divar_15['land_size'].median()"
   ]
  },
  {
   "cell_type": "code",
   "execution_count": 66,
   "id": "31bbf178",
   "metadata": {},
   "outputs": [],
   "source": [
    "divar_15['land_size'] = divar_15['land_size'].fillna(median_land_size)"
   ]
  },
  {
   "cell_type": "markdown",
   "id": "40e24032",
   "metadata": {},
   "source": [
    "<p dir=rtl>\n",
    "<font size=5 color=red>\n",
    "دیتا فریم divar_15 بر اساس price_value ساخته شده اما سطرهای آن تغییر نکرده "
   ]
  },
  {
   "cell_type": "markdown",
   "id": "a954a561",
   "metadata": {},
   "source": [
    "<p dir=rtl>\n",
    "<font size = 5 color = yellow>\n",
    "افزودین ستون های مربوط به اجاره به دیتافریم ساخته شده جدید"
   ]
  },
  {
   "cell_type": "code",
   "execution_count": 67,
   "id": "25c732d5",
   "metadata": {},
   "outputs": [],
   "source": [
    "divar_final = divar_15.copy()"
   ]
  },
  {
   "cell_type": "code",
   "execution_count": 68,
   "id": "4a88a2bf",
   "metadata": {},
   "outputs": [],
   "source": [
    "divar_final[['credit_value','rent_value','rent_credit_transform','transformable_credit','transformable_rent','transformable_price']] = divar_2[['credit_value','rent_value','rent_credit_transform','transformable_credit','transformable_rent','transformable_price']]"
   ]
  },
  {
   "cell_type": "code",
   "execution_count": 69,
   "id": "cb478965",
   "metadata": {},
   "outputs": [],
   "source": [
    "# divar_final.to_csv('divar_final.csv', index=False)"
   ]
  },
  {
   "cell_type": "code",
   "execution_count": 70,
   "id": "b38f5a54",
   "metadata": {},
   "outputs": [
    {
     "data": {
      "text/plain": [
       "(1000000, 54)"
      ]
     },
     "execution_count": 70,
     "metadata": {},
     "output_type": "execute_result"
    }
   ],
   "source": [
    "divar_15.shape"
   ]
  },
  {
   "cell_type": "markdown",
   "id": "f653fd4b",
   "metadata": {},
   "source": [
    "<p dir=rtl>\n",
    "<font size=5 color=yellow>\n",
    "مرتب سازی بر اساس price "
   ]
  },
  {
   "cell_type": "code",
   "execution_count": 71,
   "id": "8a00e7b4",
   "metadata": {},
   "outputs": [],
   "source": [
    "divar_price = divar_15.copy()"
   ]
  },
  {
   "cell_type": "code",
   "execution_count": 72,
   "id": "19501a32",
   "metadata": {},
   "outputs": [],
   "source": [
    "divar_price = divar_price.dropna(subset=['price_value'])"
   ]
  },
  {
   "cell_type": "code",
   "execution_count": 73,
   "id": "e693d27c",
   "metadata": {},
   "outputs": [],
   "source": [
    "divar_price = divar_price.dropna(subset=['city'])"
   ]
  },
  {
   "cell_type": "code",
   "execution_count": 74,
   "id": "37488f5d",
   "metadata": {},
   "outputs": [
    {
     "data": {
      "text/plain": [
       "cat2_slug\n",
       "residential-sell        534963\n",
       "commercial-sell          32127\n",
       "real-estate-services      1210\n",
       "commercial-rent             34\n",
       "residential-rent             6\n",
       "temporary-rent               5\n",
       "Name: count, dtype: int64"
      ]
     },
     "execution_count": 74,
     "metadata": {},
     "output_type": "execute_result"
    }
   ],
   "source": [
    "divar_price['cat2_slug'].value_counts()"
   ]
  },
  {
   "cell_type": "markdown",
   "id": "ae37defd",
   "metadata": {},
   "source": [
    "<p dir=rtl>\n",
    "<font size=5 color=yellow>\n",
    "نگه داشتن سطرهایی از cat2_slug که مربوط به فروش هستند."
   ]
  },
  {
   "cell_type": "code",
   "execution_count": 75,
   "id": "dd819ce2",
   "metadata": {},
   "outputs": [],
   "source": [
    "divar_price_2 = divar_price[divar_price['cat2_slug'].str.contains('sell', na=False)]"
   ]
  },
  {
   "cell_type": "code",
   "execution_count": 76,
   "id": "1d5c8aa9",
   "metadata": {},
   "outputs": [
    {
     "name": "stderr",
     "output_type": "stream",
     "text": [
      "D:\\AppData\\ipykernel_40808\\2298980766.py:1: SettingWithCopyWarning: \n",
      "A value is trying to be set on a copy of a slice from a DataFrame\n",
      "\n",
      "See the caveats in the documentation: https://pandas.pydata.org/pandas-docs/stable/user_guide/indexing.html#returning-a-view-versus-a-copy\n",
      "  divar_price_2.rename(columns={'cat2_slug' : 'dealing_type'}, inplace=True)\n"
     ]
    }
   ],
   "source": [
    "divar_price_2.rename(columns={'cat2_slug' : 'dealing_type'}, inplace=True)"
   ]
  },
  {
   "cell_type": "code",
   "execution_count": 77,
   "id": "4ca66a9a",
   "metadata": {},
   "outputs": [
    {
     "name": "stderr",
     "output_type": "stream",
     "text": [
      "D:\\AppData\\ipykernel_40808\\2715472140.py:1: SettingWithCopyWarning: \n",
      "A value is trying to be set on a copy of a slice from a DataFrame\n",
      "\n",
      "See the caveats in the documentation: https://pandas.pydata.org/pandas-docs/stable/user_guide/indexing.html#returning-a-view-versus-a-copy\n",
      "  divar_price_2.rename(columns={'cat3_slug' : 'building_type'}, inplace=True)\n"
     ]
    }
   ],
   "source": [
    "divar_price_2.rename(columns={'cat3_slug' : 'building_type'}, inplace=True)"
   ]
  },
  {
   "cell_type": "code",
   "execution_count": 78,
   "id": "c8d31d68",
   "metadata": {},
   "outputs": [
    {
     "name": "stderr",
     "output_type": "stream",
     "text": [
      "D:\\AppData\\ipykernel_40808\\2750678498.py:1: SettingWithCopyWarning: \n",
      "A value is trying to be set on a copy of a slice from a DataFrame\n",
      "\n",
      "See the caveats in the documentation: https://pandas.pydata.org/pandas-docs/stable/user_guide/indexing.html#returning-a-view-versus-a-copy\n",
      "  divar_price_2.rename(columns={'dealing_type' : 'property_type'}, inplace=True)\n"
     ]
    }
   ],
   "source": [
    "divar_price_2.rename(columns={'dealing_type' : 'property_type'}, inplace=True)"
   ]
  },
  {
   "cell_type": "markdown",
   "id": "f0d25642",
   "metadata": {},
   "source": [
    "<p dir=rtl>\n",
    "<font size=5 color=yellow>\n",
    "تبدیل تایپ ستون های object به عدد با استفاده از binary_encoder"
   ]
  },
  {
   "cell_type": "code",
   "execution_count": 79,
   "id": "253ef160",
   "metadata": {},
   "outputs": [],
   "source": [
    "encoder_binary = ce.BinaryEncoder(cols=['city','neighborhood','building_type','property_type'])\n",
    "divar_price_3 = encoder_binary.fit_transform(divar_price_2)\n"
   ]
  },
  {
   "cell_type": "code",
   "execution_count": 80,
   "id": "11b09601",
   "metadata": {},
   "outputs": [],
   "source": [
    "divar_price_3.reset_index(drop=True, inplace=True)\n"
   ]
  },
  {
   "cell_type": "code",
   "execution_count": 81,
   "id": "a9e0cb82",
   "metadata": {},
   "outputs": [],
   "source": [
    "divar_price_final = divar_price_3.copy()"
   ]
  },
  {
   "cell_type": "code",
   "execution_count": null,
   "id": "323d268f",
   "metadata": {},
   "outputs": [],
   "source": [
    "# divar_price_final.to_csv('divar_price_final.csv', index=False)"
   ]
  },
  {
   "cell_type": "code",
   "execution_count": 83,
   "id": "b3af09b6",
   "metadata": {},
   "outputs": [
    {
     "name": "stdout",
     "output_type": "stream",
     "text": [
      "<class 'pandas.core.frame.DataFrame'>\n",
      "RangeIndex: 567090 entries, 0 to 567089\n",
      "Data columns (total 75 columns):\n",
      " #   Column                        Non-Null Count   Dtype  \n",
      "---  ------                        --------------   -----  \n",
      " 0   building_size                 567090 non-null  float64\n",
      " 1   property_type_0               567090 non-null  int64  \n",
      " 2   property_type_1               567090 non-null  int64  \n",
      " 3   building_type_0               567090 non-null  int64  \n",
      " 4   building_type_1               567090 non-null  int64  \n",
      " 5   building_type_2               567090 non-null  int64  \n",
      " 6   city_0                        567090 non-null  int64  \n",
      " 7   city_1                        567090 non-null  int64  \n",
      " 8   city_2                        567090 non-null  int64  \n",
      " 9   city_3                        567090 non-null  int64  \n",
      " 10  city_4                        567090 non-null  int64  \n",
      " 11  city_5                        567090 non-null  int64  \n",
      " 12  city_6                        567090 non-null  int64  \n",
      " 13  city_7                        567090 non-null  int64  \n",
      " 14  city_8                        567090 non-null  int64  \n",
      " 15  construction_year             567090 non-null  float64\n",
      " 16  creation_date_0               567090 non-null  int64  \n",
      " 17  creation_date_1               567090 non-null  int64  \n",
      " 18  creation_date_2               567090 non-null  int64  \n",
      " 19  creation_date_3               567090 non-null  int64  \n",
      " 20  creation_date_4               567090 non-null  int64  \n",
      " 21  creation_date_5               567090 non-null  int64  \n",
      " 22  land_size                     567090 non-null  float64\n",
      " 23  neighborhood_0                567090 non-null  int64  \n",
      " 24  neighborhood_1                567090 non-null  int64  \n",
      " 25  neighborhood_2                567090 non-null  int64  \n",
      " 26  neighborhood_3                567090 non-null  int64  \n",
      " 27  neighborhood_4                567090 non-null  int64  \n",
      " 28  neighborhood_5                567090 non-null  int64  \n",
      " 29  neighborhood_6                567090 non-null  int64  \n",
      " 30  neighborhood_7                567090 non-null  int64  \n",
      " 31  neighborhood_8                567090 non-null  int64  \n",
      " 32  neighborhood_9                567090 non-null  int64  \n",
      " 33  neighborhood_10               567090 non-null  int64  \n",
      " 34  price_value                   567090 non-null  float64\n",
      " 35  building_direction_missing    567090 non-null  int64  \n",
      " 36  building_direction_east       567090 non-null  float64\n",
      " 37  building_direction_north      567090 non-null  float64\n",
      " 38  building_direction_south      567090 non-null  float64\n",
      " 39  building_direction_unknown    567090 non-null  float64\n",
      " 40  building_direction_unselect   567090 non-null  float64\n",
      " 41  building_direction_west       567090 non-null  float64\n",
      " 42  construction_year_is_missing  567090 non-null  int64  \n",
      " 43  deed_type_is_missing          567090 non-null  int64  \n",
      " 44  deed_type_multi_page          567090 non-null  float64\n",
      " 45  deed_type_other               567090 non-null  float64\n",
      " 46  deed_type_single_page         567090 non-null  float64\n",
      " 47  deed_type_unknown             567090 non-null  float64\n",
      " 48  deed_type_unselect            567090 non-null  float64\n",
      " 49  deed_type_written_agreement   567090 non-null  float64\n",
      " 50  has_balcony_is_missing        567090 non-null  int64  \n",
      " 51  has_balcony_false             567090 non-null  float64\n",
      " 52  has_balcony_true              567090 non-null  float64\n",
      " 53  has_balcony_unselect          567090 non-null  float64\n",
      " 54  luxury_features               567090 non-null  int64  \n",
      " 55  has_elevator_false            567090 non-null  float64\n",
      " 56  has_elevator_true             567090 non-null  float64\n",
      " 57  has_elevator_unselect         567090 non-null  float64\n",
      " 58  has_parking_false             567090 non-null  float64\n",
      " 59  has_parking_true              567090 non-null  float64\n",
      " 60  has_parking_unselect          567090 non-null  float64\n",
      " 61  has_warehouse_false           567090 non-null  float64\n",
      " 62  has_warehouse_true            567090 non-null  float64\n",
      " 63  has_warehouse_unselect        567090 non-null  float64\n",
      " 64  is_rebuilt_false              567090 non-null  float64\n",
      " 65  is_rebuilt_true               567090 non-null  float64\n",
      " 66  is_rebuilt_unselect           567090 non-null  float64\n",
      " 67  rooms_count_0                 567090 non-null  float64\n",
      " 68  rooms_count_1                 567090 non-null  float64\n",
      " 69  rooms_count_2                 567090 non-null  float64\n",
      " 70  rooms_count_3                 567090 non-null  float64\n",
      " 71  rooms_count_4                 567090 non-null  float64\n",
      " 72  rooms_count_5 or more         567090 non-null  float64\n",
      " 73  rooms_count_unselect          567090 non-null  float64\n",
      " 74  land_size_is_missing          567090 non-null  int64  \n",
      "dtypes: float64(38), int64(37)\n",
      "memory usage: 324.5 MB\n"
     ]
    }
   ],
   "source": [
    "divar_price_final.info()"
   ]
  },
  {
   "cell_type": "code",
   "execution_count": null,
   "id": "87b2366b",
   "metadata": {},
   "outputs": [],
   "source": []
  }
 ],
 "metadata": {
  "kernelspec": {
   "display_name": "Python 3",
   "language": "python",
   "name": "python3"
  },
  "language_info": {
   "codemirror_mode": {
    "name": "ipython",
    "version": 3
   },
   "file_extension": ".py",
   "mimetype": "text/x-python",
   "name": "python",
   "nbconvert_exporter": "python",
   "pygments_lexer": "ipython3",
   "version": "3.11.0"
  }
 },
 "nbformat": 4,
 "nbformat_minor": 5
}
